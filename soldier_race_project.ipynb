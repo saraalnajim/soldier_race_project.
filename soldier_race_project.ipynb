{
 "cells": [
  {
   "cell_type": "markdown",
   "metadata": {
    "id": "rfUdHCfe1b6v"
   },
   "source": [
    "___\n",
    "\n",
    "<p style=\"text-align: center;\"><img src=\"https://docs.google.com/uc?id=1lY0Uj5R04yMY3-ZppPWxqCr5pvBLYPnV\" class=\"img-fluid\" alt=\"CLRSWY\"></p>\n",
    "\n",
    "___"
   ]
  },
  {
   "cell_type": "markdown",
   "metadata": {
    "cell_style": "split",
    "heading_collapsed": true,
    "id": "CvFxPmf41b6y"
   },
   "source": [
    "# WELCOME!"
   ]
  },
  {
   "cell_type": "markdown",
   "metadata": {
    "cell_style": "split",
    "hidden": true,
    "id": "WZUMKNQY1b6y"
   },
   "source": [
    "In this project, you must apply EDA processes for the development of predictive models. Handling outliers, domain knowledge and feature engineering will be challenges.\n",
    "\n",
    "Also, this project aims to improve your ability to implement algorithms for Multi-Class Classification. Thus, you will have the opportunity to implement many algorithms commonly used for Multi-Class Classification problems.\n",
    "\n",
    "Before diving into the project, please take a look at the determines and tasks."
   ]
  },
  {
   "cell_type": "markdown",
   "metadata": {
    "cell_style": "split",
    "heading_collapsed": true,
    "id": "laCRtJs51b6z"
   },
   "source": [
    "# Determines"
   ]
  },
  {
   "cell_type": "markdown",
   "metadata": {
    "cell_style": "split",
    "hidden": true,
    "id": "iixh9Bej1b6z"
   },
   "source": [
    "The 2012 US Army Anthropometric Survey (ANSUR II) was executed by the Natick Soldier Research, Development and Engineering Center (NSRDEC) from October 2010 to April 2012 and is comprised of personnel representing the total US Army force to include the US Army Active Duty, Reserves, and National Guard. In addition to the anthropometric and demographic data described below, the ANSUR II database also consists of 3D whole body, foot, and head scans of Soldier participants. These 3D data are not publicly available out of respect for the privacy of ANSUR II participants. The data from this survey are used for a wide range of equipment design, sizing, and tariffing applications within the military and has many potential commercial, industrial, and academic applications.\n",
    "\n",
    "The ANSUR II working databases contain 93 anthropometric measurements which were directly measured, and 15 demographic/administrative variables explained below. The ANSUR II Male working database contains a total sample of 4,082 subjects. The ANSUR II Female working database contains a total sample of 1,986 subjects.\n",
    "\n",
    "\n",
    "DATA DICT:\n",
    "https://data.world/datamil/ansur-ii-data-dictionary/workspace/file?filename=ANSUR+II+Databases+Overview.pdf\n",
    "\n",
    "---\n",
    "\n",
    "To achieve high prediction success, you must understand the data well and develop different approaches that can affect the dependent variable.\n",
    "\n",
    "Firstly, try to understand the dataset column by column using pandas module. Do research within the scope of domain (body scales, and race characteristics) knowledge on the internet to get to know the data set in the fastest way.\n",
    "\n",
    "You will implement ***Logistic Regression, Support Vector Machine, XGBoost, Random Forest*** algorithms. Also, evaluate the success of your models with appropriate performance metrics.\n",
    "\n",
    "At the end of the project, choose the most successful model and try to enhance the scores with ***SMOTE*** make it ready to deploy. Furthermore, use ***SHAP*** to explain how the best model you choose works."
   ]
  },
  {
   "cell_type": "markdown",
   "metadata": {
    "cell_style": "split",
    "heading_collapsed": true,
    "id": "P2UckCvP1b60"
   },
   "source": [
    "# Tasks"
   ]
  },
  {
   "cell_type": "markdown",
   "metadata": {
    "cell_style": "split",
    "hidden": true,
    "id": "gCVDEsGB1b60"
   },
   "source": [
    "#### 1. Exploratory Data Analysis (EDA)\n",
    "- Import Libraries, Load Dataset, Exploring Data\n",
    "\n",
    "    *i. Import Libraries*\n",
    "    \n",
    "    *ii. Ingest Data *\n",
    "    \n",
    "    *iii. Explore Data*\n",
    "    \n",
    "    *iv. Outlier Detection*\n",
    "    \n",
    "    *v.  Drop unnecessary features*\n",
    "\n",
    "#### 2. Data Preprocessing\n",
    "- Scale (if needed)\n",
    "- Separete the data frame for evaluation purposes\n",
    "\n",
    "#### 3. Multi-class Classification\n",
    "- Import libraries\n",
    "- Implement SVM Classifer\n",
    "- Implement Decision Tree Classifier\n",
    "- Implement Random Forest Classifer\n",
    "- Implement XGBoost Classifer\n",
    "- Compare The Models\n",
    "\n"
   ]
  },
  {
   "cell_type": "markdown",
   "metadata": {
    "heading_collapsed": true,
    "id": "Y5-Kay1Eqvdj"
   },
   "source": [
    "# EDA\n",
    "- Drop unnecessary colums\n",
    "- Drop DODRace class if value count below 500 (we assume that our data model can't learn if it is below 500)"
   ]
  },
  {
   "cell_type": "markdown",
   "metadata": {
    "heading_collapsed": true,
    "hidden": true,
    "id": "K7UZHtvu1b62"
   },
   "source": [
    "## Import Libraries\n",
    "Besides Numpy and Pandas, you need to import the necessary modules for data visualization, data preprocessing, Model building and tuning.\n",
    "\n",
    "*Note: Check out the course materials.*"
   ]
  },
  {
   "cell_type": "code",
   "execution_count": 1,
   "metadata": {
    "hidden": true,
    "id": "OqnRjwHB1b64"
   },
   "outputs": [],
   "source": [
    "import numpy as np\n",
    "import pandas as pd\n",
    "import seaborn as sns\n",
    "import matplotlib.pyplot as plt\n",
    "from sklearn.model_selection import train_test_split\n",
    "from sklearn.svm import SVC\n",
    "from sklearn.metrics import classification_report,confusion_matrix\n",
    "from sklearn.linear_model import LogisticRegression\n",
    "from sklearn.preprocessing import StandardScaler, MinMaxScaler\n",
    "from sklearn.pipeline import Pipeline\n",
    "import warnings\n",
    "warnings.filterwarnings(\"ignore\")\n",
    "warnings.warn(\"this will not show\")"
   ]
  },
  {
   "cell_type": "markdown",
   "metadata": {
    "heading_collapsed": true,
    "hidden": true,
    "id": "C5lJeTBu1b65"
   },
   "source": [
    "## Ingest Data from links below and make a dataframe\n",
    "- Soldiers Male : https://query.data.world/s/h3pbhckz5ck4rc7qmt2wlknlnn7esr\n",
    "- Soldiers Female : https://query.data.world/s/sq27zz4hawg32yfxksqwijxmpwmynq"
   ]
  },
  {
   "cell_type": "code",
   "execution_count": 2,
   "metadata": {
    "colab": {
     "base_uri": "https://localhost:8080/",
     "height": 17
    },
    "hidden": true,
    "id": "tG5BsWraqX_y",
    "outputId": "a6e730fa-6848-4cfc-becb-284fc8cc99e5"
   },
   "outputs": [],
   "source": [
    "df_female=pd.read_csv(\"ANSUR II FEMALE Public.csv\")"
   ]
  },
  {
   "cell_type": "code",
   "execution_count": 3,
   "metadata": {},
   "outputs": [],
   "source": [
    "df_male=pd.read_csv(\"ANSUR II MALE Public.csv\", encoding='latin-1')"
   ]
  },
  {
   "cell_type": "markdown",
   "metadata": {
    "heading_collapsed": true,
    "hidden": true,
    "id": "TMjCTEG51b67"
   },
   "source": [
    "## Explore Data"
   ]
  },
  {
   "cell_type": "code",
   "execution_count": 4,
   "metadata": {},
   "outputs": [
    {
     "data": {
      "text/html": [
       "<div>\n",
       "<style scoped>\n",
       "    .dataframe tbody tr th:only-of-type {\n",
       "        vertical-align: middle;\n",
       "    }\n",
       "\n",
       "    .dataframe tbody tr th {\n",
       "        vertical-align: top;\n",
       "    }\n",
       "\n",
       "    .dataframe thead th {\n",
       "        text-align: right;\n",
       "    }\n",
       "</style>\n",
       "<table border=\"1\" class=\"dataframe\">\n",
       "  <thead>\n",
       "    <tr style=\"text-align: right;\">\n",
       "      <th></th>\n",
       "      <th>SubjectId</th>\n",
       "      <th>abdominalextensiondepthsitting</th>\n",
       "      <th>acromialheight</th>\n",
       "      <th>acromionradialelength</th>\n",
       "      <th>anklecircumference</th>\n",
       "      <th>axillaheight</th>\n",
       "      <th>balloffootcircumference</th>\n",
       "      <th>balloffootlength</th>\n",
       "      <th>biacromialbreadth</th>\n",
       "      <th>bicepscircumferenceflexed</th>\n",
       "      <th>...</th>\n",
       "      <th>Branch</th>\n",
       "      <th>PrimaryMOS</th>\n",
       "      <th>SubjectsBirthLocation</th>\n",
       "      <th>SubjectNumericRace</th>\n",
       "      <th>Ethnicity</th>\n",
       "      <th>DODRace</th>\n",
       "      <th>Age</th>\n",
       "      <th>Heightin</th>\n",
       "      <th>Weightlbs</th>\n",
       "      <th>WritingPreference</th>\n",
       "    </tr>\n",
       "  </thead>\n",
       "  <tbody>\n",
       "    <tr>\n",
       "      <th>0</th>\n",
       "      <td>10037</td>\n",
       "      <td>231</td>\n",
       "      <td>1282</td>\n",
       "      <td>301</td>\n",
       "      <td>204</td>\n",
       "      <td>1180</td>\n",
       "      <td>222</td>\n",
       "      <td>177</td>\n",
       "      <td>373</td>\n",
       "      <td>315</td>\n",
       "      <td>...</td>\n",
       "      <td>Combat Support</td>\n",
       "      <td>92Y</td>\n",
       "      <td>Germany</td>\n",
       "      <td>2</td>\n",
       "      <td>NaN</td>\n",
       "      <td>2</td>\n",
       "      <td>26</td>\n",
       "      <td>61</td>\n",
       "      <td>142</td>\n",
       "      <td>Right hand</td>\n",
       "    </tr>\n",
       "    <tr>\n",
       "      <th>1</th>\n",
       "      <td>10038</td>\n",
       "      <td>194</td>\n",
       "      <td>1379</td>\n",
       "      <td>320</td>\n",
       "      <td>207</td>\n",
       "      <td>1292</td>\n",
       "      <td>225</td>\n",
       "      <td>178</td>\n",
       "      <td>372</td>\n",
       "      <td>272</td>\n",
       "      <td>...</td>\n",
       "      <td>Combat Service Support</td>\n",
       "      <td>25U</td>\n",
       "      <td>California</td>\n",
       "      <td>3</td>\n",
       "      <td>Mexican</td>\n",
       "      <td>3</td>\n",
       "      <td>21</td>\n",
       "      <td>64</td>\n",
       "      <td>120</td>\n",
       "      <td>Right hand</td>\n",
       "    </tr>\n",
       "    <tr>\n",
       "      <th>2</th>\n",
       "      <td>10042</td>\n",
       "      <td>183</td>\n",
       "      <td>1369</td>\n",
       "      <td>329</td>\n",
       "      <td>233</td>\n",
       "      <td>1271</td>\n",
       "      <td>237</td>\n",
       "      <td>196</td>\n",
       "      <td>397</td>\n",
       "      <td>300</td>\n",
       "      <td>...</td>\n",
       "      <td>Combat Service Support</td>\n",
       "      <td>35D</td>\n",
       "      <td>Texas</td>\n",
       "      <td>1</td>\n",
       "      <td>NaN</td>\n",
       "      <td>1</td>\n",
       "      <td>23</td>\n",
       "      <td>68</td>\n",
       "      <td>147</td>\n",
       "      <td>Right hand</td>\n",
       "    </tr>\n",
       "    <tr>\n",
       "      <th>3</th>\n",
       "      <td>10043</td>\n",
       "      <td>261</td>\n",
       "      <td>1356</td>\n",
       "      <td>306</td>\n",
       "      <td>214</td>\n",
       "      <td>1250</td>\n",
       "      <td>240</td>\n",
       "      <td>188</td>\n",
       "      <td>384</td>\n",
       "      <td>364</td>\n",
       "      <td>...</td>\n",
       "      <td>Combat Service Support</td>\n",
       "      <td>25U</td>\n",
       "      <td>District of Columbia</td>\n",
       "      <td>8</td>\n",
       "      <td>Caribbean Islander</td>\n",
       "      <td>2</td>\n",
       "      <td>22</td>\n",
       "      <td>66</td>\n",
       "      <td>175</td>\n",
       "      <td>Right hand</td>\n",
       "    </tr>\n",
       "    <tr>\n",
       "      <th>4</th>\n",
       "      <td>10051</td>\n",
       "      <td>309</td>\n",
       "      <td>1303</td>\n",
       "      <td>308</td>\n",
       "      <td>214</td>\n",
       "      <td>1210</td>\n",
       "      <td>217</td>\n",
       "      <td>182</td>\n",
       "      <td>378</td>\n",
       "      <td>320</td>\n",
       "      <td>...</td>\n",
       "      <td>Combat Arms</td>\n",
       "      <td>42A</td>\n",
       "      <td>Texas</td>\n",
       "      <td>1</td>\n",
       "      <td>NaN</td>\n",
       "      <td>1</td>\n",
       "      <td>45</td>\n",
       "      <td>63</td>\n",
       "      <td>195</td>\n",
       "      <td>Right hand</td>\n",
       "    </tr>\n",
       "  </tbody>\n",
       "</table>\n",
       "<p>5 rows × 108 columns</p>\n",
       "</div>"
      ],
      "text/plain": [
       "   SubjectId  abdominalextensiondepthsitting  acromialheight  \\\n",
       "0      10037                             231            1282   \n",
       "1      10038                             194            1379   \n",
       "2      10042                             183            1369   \n",
       "3      10043                             261            1356   \n",
       "4      10051                             309            1303   \n",
       "\n",
       "   acromionradialelength  anklecircumference  axillaheight  \\\n",
       "0                    301                 204          1180   \n",
       "1                    320                 207          1292   \n",
       "2                    329                 233          1271   \n",
       "3                    306                 214          1250   \n",
       "4                    308                 214          1210   \n",
       "\n",
       "   balloffootcircumference  balloffootlength  biacromialbreadth  \\\n",
       "0                      222               177                373   \n",
       "1                      225               178                372   \n",
       "2                      237               196                397   \n",
       "3                      240               188                384   \n",
       "4                      217               182                378   \n",
       "\n",
       "   bicepscircumferenceflexed  ...                  Branch  PrimaryMOS  \\\n",
       "0                        315  ...          Combat Support         92Y   \n",
       "1                        272  ...  Combat Service Support         25U   \n",
       "2                        300  ...  Combat Service Support         35D   \n",
       "3                        364  ...  Combat Service Support         25U   \n",
       "4                        320  ...             Combat Arms         42A   \n",
       "\n",
       "   SubjectsBirthLocation  SubjectNumericRace           Ethnicity  DODRace  \\\n",
       "0                Germany                   2                 NaN        2   \n",
       "1             California                   3             Mexican        3   \n",
       "2                  Texas                   1                 NaN        1   \n",
       "3   District of Columbia                   8  Caribbean Islander        2   \n",
       "4                  Texas                   1                 NaN        1   \n",
       "\n",
       "   Age  Heightin  Weightlbs  WritingPreference  \n",
       "0   26        61        142         Right hand  \n",
       "1   21        64        120         Right hand  \n",
       "2   23        68        147         Right hand  \n",
       "3   22        66        175         Right hand  \n",
       "4   45        63        195         Right hand  \n",
       "\n",
       "[5 rows x 108 columns]"
      ]
     },
     "execution_count": 4,
     "metadata": {},
     "output_type": "execute_result"
    }
   ],
   "source": [
    "df_female.head()"
   ]
  },
  {
   "cell_type": "code",
   "execution_count": 5,
   "metadata": {},
   "outputs": [
    {
     "data": {
      "text/html": [
       "<div>\n",
       "<style scoped>\n",
       "    .dataframe tbody tr th:only-of-type {\n",
       "        vertical-align: middle;\n",
       "    }\n",
       "\n",
       "    .dataframe tbody tr th {\n",
       "        vertical-align: top;\n",
       "    }\n",
       "\n",
       "    .dataframe thead th {\n",
       "        text-align: right;\n",
       "    }\n",
       "</style>\n",
       "<table border=\"1\" class=\"dataframe\">\n",
       "  <thead>\n",
       "    <tr style=\"text-align: right;\">\n",
       "      <th></th>\n",
       "      <th>subjectid</th>\n",
       "      <th>abdominalextensiondepthsitting</th>\n",
       "      <th>acromialheight</th>\n",
       "      <th>acromionradialelength</th>\n",
       "      <th>anklecircumference</th>\n",
       "      <th>axillaheight</th>\n",
       "      <th>balloffootcircumference</th>\n",
       "      <th>balloffootlength</th>\n",
       "      <th>biacromialbreadth</th>\n",
       "      <th>bicepscircumferenceflexed</th>\n",
       "      <th>...</th>\n",
       "      <th>Branch</th>\n",
       "      <th>PrimaryMOS</th>\n",
       "      <th>SubjectsBirthLocation</th>\n",
       "      <th>SubjectNumericRace</th>\n",
       "      <th>Ethnicity</th>\n",
       "      <th>DODRace</th>\n",
       "      <th>Age</th>\n",
       "      <th>Heightin</th>\n",
       "      <th>Weightlbs</th>\n",
       "      <th>WritingPreference</th>\n",
       "    </tr>\n",
       "  </thead>\n",
       "  <tbody>\n",
       "    <tr>\n",
       "      <th>0</th>\n",
       "      <td>10027</td>\n",
       "      <td>266</td>\n",
       "      <td>1467</td>\n",
       "      <td>337</td>\n",
       "      <td>222</td>\n",
       "      <td>1347</td>\n",
       "      <td>253</td>\n",
       "      <td>202</td>\n",
       "      <td>401</td>\n",
       "      <td>369</td>\n",
       "      <td>...</td>\n",
       "      <td>Combat Arms</td>\n",
       "      <td>19D</td>\n",
       "      <td>North Dakota</td>\n",
       "      <td>1</td>\n",
       "      <td>NaN</td>\n",
       "      <td>1</td>\n",
       "      <td>41</td>\n",
       "      <td>71</td>\n",
       "      <td>180</td>\n",
       "      <td>Right hand</td>\n",
       "    </tr>\n",
       "    <tr>\n",
       "      <th>1</th>\n",
       "      <td>10032</td>\n",
       "      <td>233</td>\n",
       "      <td>1395</td>\n",
       "      <td>326</td>\n",
       "      <td>220</td>\n",
       "      <td>1293</td>\n",
       "      <td>245</td>\n",
       "      <td>193</td>\n",
       "      <td>394</td>\n",
       "      <td>338</td>\n",
       "      <td>...</td>\n",
       "      <td>Combat Support</td>\n",
       "      <td>68W</td>\n",
       "      <td>New York</td>\n",
       "      <td>1</td>\n",
       "      <td>NaN</td>\n",
       "      <td>1</td>\n",
       "      <td>35</td>\n",
       "      <td>68</td>\n",
       "      <td>160</td>\n",
       "      <td>Left hand</td>\n",
       "    </tr>\n",
       "    <tr>\n",
       "      <th>2</th>\n",
       "      <td>10033</td>\n",
       "      <td>287</td>\n",
       "      <td>1430</td>\n",
       "      <td>341</td>\n",
       "      <td>230</td>\n",
       "      <td>1327</td>\n",
       "      <td>256</td>\n",
       "      <td>196</td>\n",
       "      <td>427</td>\n",
       "      <td>408</td>\n",
       "      <td>...</td>\n",
       "      <td>Combat Support</td>\n",
       "      <td>68W</td>\n",
       "      <td>New York</td>\n",
       "      <td>2</td>\n",
       "      <td>NaN</td>\n",
       "      <td>2</td>\n",
       "      <td>42</td>\n",
       "      <td>68</td>\n",
       "      <td>205</td>\n",
       "      <td>Left hand</td>\n",
       "    </tr>\n",
       "    <tr>\n",
       "      <th>3</th>\n",
       "      <td>10092</td>\n",
       "      <td>234</td>\n",
       "      <td>1347</td>\n",
       "      <td>310</td>\n",
       "      <td>230</td>\n",
       "      <td>1239</td>\n",
       "      <td>262</td>\n",
       "      <td>199</td>\n",
       "      <td>401</td>\n",
       "      <td>359</td>\n",
       "      <td>...</td>\n",
       "      <td>Combat Service Support</td>\n",
       "      <td>88M</td>\n",
       "      <td>Wisconsin</td>\n",
       "      <td>1</td>\n",
       "      <td>NaN</td>\n",
       "      <td>1</td>\n",
       "      <td>31</td>\n",
       "      <td>66</td>\n",
       "      <td>175</td>\n",
       "      <td>Right hand</td>\n",
       "    </tr>\n",
       "    <tr>\n",
       "      <th>4</th>\n",
       "      <td>10093</td>\n",
       "      <td>250</td>\n",
       "      <td>1585</td>\n",
       "      <td>372</td>\n",
       "      <td>247</td>\n",
       "      <td>1478</td>\n",
       "      <td>267</td>\n",
       "      <td>224</td>\n",
       "      <td>435</td>\n",
       "      <td>356</td>\n",
       "      <td>...</td>\n",
       "      <td>Combat Service Support</td>\n",
       "      <td>92G</td>\n",
       "      <td>North Carolina</td>\n",
       "      <td>2</td>\n",
       "      <td>NaN</td>\n",
       "      <td>2</td>\n",
       "      <td>21</td>\n",
       "      <td>77</td>\n",
       "      <td>213</td>\n",
       "      <td>Right hand</td>\n",
       "    </tr>\n",
       "  </tbody>\n",
       "</table>\n",
       "<p>5 rows × 108 columns</p>\n",
       "</div>"
      ],
      "text/plain": [
       "   subjectid  abdominalextensiondepthsitting  acromialheight  \\\n",
       "0      10027                             266            1467   \n",
       "1      10032                             233            1395   \n",
       "2      10033                             287            1430   \n",
       "3      10092                             234            1347   \n",
       "4      10093                             250            1585   \n",
       "\n",
       "   acromionradialelength  anklecircumference  axillaheight  \\\n",
       "0                    337                 222          1347   \n",
       "1                    326                 220          1293   \n",
       "2                    341                 230          1327   \n",
       "3                    310                 230          1239   \n",
       "4                    372                 247          1478   \n",
       "\n",
       "   balloffootcircumference  balloffootlength  biacromialbreadth  \\\n",
       "0                      253               202                401   \n",
       "1                      245               193                394   \n",
       "2                      256               196                427   \n",
       "3                      262               199                401   \n",
       "4                      267               224                435   \n",
       "\n",
       "   bicepscircumferenceflexed  ...                  Branch  PrimaryMOS  \\\n",
       "0                        369  ...             Combat Arms         19D   \n",
       "1                        338  ...          Combat Support         68W   \n",
       "2                        408  ...          Combat Support         68W   \n",
       "3                        359  ...  Combat Service Support         88M   \n",
       "4                        356  ...  Combat Service Support         92G   \n",
       "\n",
       "   SubjectsBirthLocation  SubjectNumericRace  Ethnicity  DODRace  Age  \\\n",
       "0           North Dakota                   1        NaN        1   41   \n",
       "1               New York                   1        NaN        1   35   \n",
       "2               New York                   2        NaN        2   42   \n",
       "3              Wisconsin                   1        NaN        1   31   \n",
       "4         North Carolina                   2        NaN        2   21   \n",
       "\n",
       "   Heightin  Weightlbs  WritingPreference  \n",
       "0        71        180         Right hand  \n",
       "1        68        160          Left hand  \n",
       "2        68        205          Left hand  \n",
       "3        66        175         Right hand  \n",
       "4        77        213         Right hand  \n",
       "\n",
       "[5 rows x 108 columns]"
      ]
     },
     "execution_count": 5,
     "metadata": {},
     "output_type": "execute_result"
    }
   ],
   "source": [
    "df_male.head()"
   ]
  },
  {
   "cell_type": "code",
   "execution_count": 6,
   "metadata": {},
   "outputs": [],
   "source": [
    "df_female.rename(columns= {\"SubjectId\": \"subjectid\"}, inplace= True)"
   ]
  },
  {
   "cell_type": "code",
   "execution_count": 7,
   "metadata": {},
   "outputs": [
    {
     "data": {
      "text/html": [
       "<div>\n",
       "<style scoped>\n",
       "    .dataframe tbody tr th:only-of-type {\n",
       "        vertical-align: middle;\n",
       "    }\n",
       "\n",
       "    .dataframe tbody tr th {\n",
       "        vertical-align: top;\n",
       "    }\n",
       "\n",
       "    .dataframe thead th {\n",
       "        text-align: right;\n",
       "    }\n",
       "</style>\n",
       "<table border=\"1\" class=\"dataframe\">\n",
       "  <thead>\n",
       "    <tr style=\"text-align: right;\">\n",
       "      <th></th>\n",
       "      <th>subjectid</th>\n",
       "      <th>abdominalextensiondepthsitting</th>\n",
       "      <th>acromialheight</th>\n",
       "      <th>acromionradialelength</th>\n",
       "      <th>anklecircumference</th>\n",
       "      <th>axillaheight</th>\n",
       "      <th>balloffootcircumference</th>\n",
       "      <th>balloffootlength</th>\n",
       "      <th>biacromialbreadth</th>\n",
       "      <th>bicepscircumferenceflexed</th>\n",
       "      <th>...</th>\n",
       "      <th>Branch</th>\n",
       "      <th>PrimaryMOS</th>\n",
       "      <th>SubjectsBirthLocation</th>\n",
       "      <th>SubjectNumericRace</th>\n",
       "      <th>Ethnicity</th>\n",
       "      <th>DODRace</th>\n",
       "      <th>Age</th>\n",
       "      <th>Heightin</th>\n",
       "      <th>Weightlbs</th>\n",
       "      <th>WritingPreference</th>\n",
       "    </tr>\n",
       "  </thead>\n",
       "  <tbody>\n",
       "    <tr>\n",
       "      <th>0</th>\n",
       "      <td>10037</td>\n",
       "      <td>231</td>\n",
       "      <td>1282</td>\n",
       "      <td>301</td>\n",
       "      <td>204</td>\n",
       "      <td>1180</td>\n",
       "      <td>222</td>\n",
       "      <td>177</td>\n",
       "      <td>373</td>\n",
       "      <td>315</td>\n",
       "      <td>...</td>\n",
       "      <td>Combat Support</td>\n",
       "      <td>92Y</td>\n",
       "      <td>Germany</td>\n",
       "      <td>2</td>\n",
       "      <td>NaN</td>\n",
       "      <td>2</td>\n",
       "      <td>26</td>\n",
       "      <td>61</td>\n",
       "      <td>142</td>\n",
       "      <td>Right hand</td>\n",
       "    </tr>\n",
       "  </tbody>\n",
       "</table>\n",
       "<p>1 rows × 108 columns</p>\n",
       "</div>"
      ],
      "text/plain": [
       "   subjectid  abdominalextensiondepthsitting  acromialheight  \\\n",
       "0      10037                             231            1282   \n",
       "\n",
       "   acromionradialelength  anklecircumference  axillaheight  \\\n",
       "0                    301                 204          1180   \n",
       "\n",
       "   balloffootcircumference  balloffootlength  biacromialbreadth  \\\n",
       "0                      222               177                373   \n",
       "\n",
       "   bicepscircumferenceflexed  ...          Branch  PrimaryMOS  \\\n",
       "0                        315  ...  Combat Support         92Y   \n",
       "\n",
       "   SubjectsBirthLocation  SubjectNumericRace  Ethnicity  DODRace  Age  \\\n",
       "0                Germany                   2        NaN        2   26   \n",
       "\n",
       "   Heightin  Weightlbs  WritingPreference  \n",
       "0        61        142         Right hand  \n",
       "\n",
       "[1 rows x 108 columns]"
      ]
     },
     "execution_count": 7,
     "metadata": {},
     "output_type": "execute_result"
    }
   ],
   "source": [
    "df_female.head(1)"
   ]
  },
  {
   "cell_type": "code",
   "execution_count": 8,
   "metadata": {},
   "outputs": [
    {
     "data": {
      "text/plain": [
       "(1986, 108)"
      ]
     },
     "execution_count": 8,
     "metadata": {},
     "output_type": "execute_result"
    }
   ],
   "source": [
    "df_female.shape"
   ]
  },
  {
   "cell_type": "code",
   "execution_count": 9,
   "metadata": {},
   "outputs": [
    {
     "data": {
      "text/plain": [
       "(4082, 108)"
      ]
     },
     "execution_count": 9,
     "metadata": {},
     "output_type": "execute_result"
    }
   ],
   "source": [
    "df_male.shape"
   ]
  },
  {
   "cell_type": "code",
   "execution_count": 10,
   "metadata": {},
   "outputs": [],
   "source": [
    "df = pd.concat([df_male, df_female], axis=0, ignore_index=True)"
   ]
  },
  {
   "cell_type": "code",
   "execution_count": 11,
   "metadata": {},
   "outputs": [
    {
     "data": {
      "text/html": [
       "<div>\n",
       "<style scoped>\n",
       "    .dataframe tbody tr th:only-of-type {\n",
       "        vertical-align: middle;\n",
       "    }\n",
       "\n",
       "    .dataframe tbody tr th {\n",
       "        vertical-align: top;\n",
       "    }\n",
       "\n",
       "    .dataframe thead th {\n",
       "        text-align: right;\n",
       "    }\n",
       "</style>\n",
       "<table border=\"1\" class=\"dataframe\">\n",
       "  <thead>\n",
       "    <tr style=\"text-align: right;\">\n",
       "      <th></th>\n",
       "      <th>subjectid</th>\n",
       "      <th>abdominalextensiondepthsitting</th>\n",
       "      <th>acromialheight</th>\n",
       "      <th>acromionradialelength</th>\n",
       "      <th>anklecircumference</th>\n",
       "      <th>axillaheight</th>\n",
       "      <th>balloffootcircumference</th>\n",
       "      <th>balloffootlength</th>\n",
       "      <th>biacromialbreadth</th>\n",
       "      <th>bicepscircumferenceflexed</th>\n",
       "      <th>...</th>\n",
       "      <th>Branch</th>\n",
       "      <th>PrimaryMOS</th>\n",
       "      <th>SubjectsBirthLocation</th>\n",
       "      <th>SubjectNumericRace</th>\n",
       "      <th>Ethnicity</th>\n",
       "      <th>DODRace</th>\n",
       "      <th>Age</th>\n",
       "      <th>Heightin</th>\n",
       "      <th>Weightlbs</th>\n",
       "      <th>WritingPreference</th>\n",
       "    </tr>\n",
       "  </thead>\n",
       "  <tbody>\n",
       "    <tr>\n",
       "      <th>0</th>\n",
       "      <td>10027</td>\n",
       "      <td>266</td>\n",
       "      <td>1467</td>\n",
       "      <td>337</td>\n",
       "      <td>222</td>\n",
       "      <td>1347</td>\n",
       "      <td>253</td>\n",
       "      <td>202</td>\n",
       "      <td>401</td>\n",
       "      <td>369</td>\n",
       "      <td>...</td>\n",
       "      <td>Combat Arms</td>\n",
       "      <td>19D</td>\n",
       "      <td>North Dakota</td>\n",
       "      <td>1</td>\n",
       "      <td>NaN</td>\n",
       "      <td>1</td>\n",
       "      <td>41</td>\n",
       "      <td>71</td>\n",
       "      <td>180</td>\n",
       "      <td>Right hand</td>\n",
       "    </tr>\n",
       "    <tr>\n",
       "      <th>1</th>\n",
       "      <td>10032</td>\n",
       "      <td>233</td>\n",
       "      <td>1395</td>\n",
       "      <td>326</td>\n",
       "      <td>220</td>\n",
       "      <td>1293</td>\n",
       "      <td>245</td>\n",
       "      <td>193</td>\n",
       "      <td>394</td>\n",
       "      <td>338</td>\n",
       "      <td>...</td>\n",
       "      <td>Combat Support</td>\n",
       "      <td>68W</td>\n",
       "      <td>New York</td>\n",
       "      <td>1</td>\n",
       "      <td>NaN</td>\n",
       "      <td>1</td>\n",
       "      <td>35</td>\n",
       "      <td>68</td>\n",
       "      <td>160</td>\n",
       "      <td>Left hand</td>\n",
       "    </tr>\n",
       "    <tr>\n",
       "      <th>2</th>\n",
       "      <td>10033</td>\n",
       "      <td>287</td>\n",
       "      <td>1430</td>\n",
       "      <td>341</td>\n",
       "      <td>230</td>\n",
       "      <td>1327</td>\n",
       "      <td>256</td>\n",
       "      <td>196</td>\n",
       "      <td>427</td>\n",
       "      <td>408</td>\n",
       "      <td>...</td>\n",
       "      <td>Combat Support</td>\n",
       "      <td>68W</td>\n",
       "      <td>New York</td>\n",
       "      <td>2</td>\n",
       "      <td>NaN</td>\n",
       "      <td>2</td>\n",
       "      <td>42</td>\n",
       "      <td>68</td>\n",
       "      <td>205</td>\n",
       "      <td>Left hand</td>\n",
       "    </tr>\n",
       "    <tr>\n",
       "      <th>3</th>\n",
       "      <td>10092</td>\n",
       "      <td>234</td>\n",
       "      <td>1347</td>\n",
       "      <td>310</td>\n",
       "      <td>230</td>\n",
       "      <td>1239</td>\n",
       "      <td>262</td>\n",
       "      <td>199</td>\n",
       "      <td>401</td>\n",
       "      <td>359</td>\n",
       "      <td>...</td>\n",
       "      <td>Combat Service Support</td>\n",
       "      <td>88M</td>\n",
       "      <td>Wisconsin</td>\n",
       "      <td>1</td>\n",
       "      <td>NaN</td>\n",
       "      <td>1</td>\n",
       "      <td>31</td>\n",
       "      <td>66</td>\n",
       "      <td>175</td>\n",
       "      <td>Right hand</td>\n",
       "    </tr>\n",
       "    <tr>\n",
       "      <th>4</th>\n",
       "      <td>10093</td>\n",
       "      <td>250</td>\n",
       "      <td>1585</td>\n",
       "      <td>372</td>\n",
       "      <td>247</td>\n",
       "      <td>1478</td>\n",
       "      <td>267</td>\n",
       "      <td>224</td>\n",
       "      <td>435</td>\n",
       "      <td>356</td>\n",
       "      <td>...</td>\n",
       "      <td>Combat Service Support</td>\n",
       "      <td>92G</td>\n",
       "      <td>North Carolina</td>\n",
       "      <td>2</td>\n",
       "      <td>NaN</td>\n",
       "      <td>2</td>\n",
       "      <td>21</td>\n",
       "      <td>77</td>\n",
       "      <td>213</td>\n",
       "      <td>Right hand</td>\n",
       "    </tr>\n",
       "  </tbody>\n",
       "</table>\n",
       "<p>5 rows × 108 columns</p>\n",
       "</div>"
      ],
      "text/plain": [
       "   subjectid  abdominalextensiondepthsitting  acromialheight  \\\n",
       "0      10027                             266            1467   \n",
       "1      10032                             233            1395   \n",
       "2      10033                             287            1430   \n",
       "3      10092                             234            1347   \n",
       "4      10093                             250            1585   \n",
       "\n",
       "   acromionradialelength  anklecircumference  axillaheight  \\\n",
       "0                    337                 222          1347   \n",
       "1                    326                 220          1293   \n",
       "2                    341                 230          1327   \n",
       "3                    310                 230          1239   \n",
       "4                    372                 247          1478   \n",
       "\n",
       "   balloffootcircumference  balloffootlength  biacromialbreadth  \\\n",
       "0                      253               202                401   \n",
       "1                      245               193                394   \n",
       "2                      256               196                427   \n",
       "3                      262               199                401   \n",
       "4                      267               224                435   \n",
       "\n",
       "   bicepscircumferenceflexed  ...                  Branch  PrimaryMOS  \\\n",
       "0                        369  ...             Combat Arms         19D   \n",
       "1                        338  ...          Combat Support         68W   \n",
       "2                        408  ...          Combat Support         68W   \n",
       "3                        359  ...  Combat Service Support         88M   \n",
       "4                        356  ...  Combat Service Support         92G   \n",
       "\n",
       "   SubjectsBirthLocation  SubjectNumericRace  Ethnicity  DODRace  Age  \\\n",
       "0           North Dakota                   1        NaN        1   41   \n",
       "1               New York                   1        NaN        1   35   \n",
       "2               New York                   2        NaN        2   42   \n",
       "3              Wisconsin                   1        NaN        1   31   \n",
       "4         North Carolina                   2        NaN        2   21   \n",
       "\n",
       "   Heightin  Weightlbs  WritingPreference  \n",
       "0        71        180         Right hand  \n",
       "1        68        160          Left hand  \n",
       "2        68        205          Left hand  \n",
       "3        66        175         Right hand  \n",
       "4        77        213         Right hand  \n",
       "\n",
       "[5 rows x 108 columns]"
      ]
     },
     "execution_count": 11,
     "metadata": {},
     "output_type": "execute_result"
    }
   ],
   "source": [
    "df.head()"
   ]
  },
  {
   "cell_type": "code",
   "execution_count": 12,
   "metadata": {},
   "outputs": [
    {
     "name": "stdout",
     "output_type": "stream",
     "text": [
      "<class 'pandas.core.frame.DataFrame'>\n",
      "RangeIndex: 6068 entries, 0 to 6067\n",
      "Data columns (total 108 columns):\n",
      " #    Column                          Non-Null Count  Dtype \n",
      "---   ------                          --------------  ----- \n",
      " 0    subjectid                       6068 non-null   int64 \n",
      " 1    abdominalextensiondepthsitting  6068 non-null   int64 \n",
      " 2    acromialheight                  6068 non-null   int64 \n",
      " 3    acromionradialelength           6068 non-null   int64 \n",
      " 4    anklecircumference              6068 non-null   int64 \n",
      " 5    axillaheight                    6068 non-null   int64 \n",
      " 6    balloffootcircumference         6068 non-null   int64 \n",
      " 7    balloffootlength                6068 non-null   int64 \n",
      " 8    biacromialbreadth               6068 non-null   int64 \n",
      " 9    bicepscircumferenceflexed       6068 non-null   int64 \n",
      " 10   bicristalbreadth                6068 non-null   int64 \n",
      " 11   bideltoidbreadth                6068 non-null   int64 \n",
      " 12   bimalleolarbreadth              6068 non-null   int64 \n",
      " 13   bitragionchinarc                6068 non-null   int64 \n",
      " 14   bitragionsubmandibulararc       6068 non-null   int64 \n",
      " 15   bizygomaticbreadth              6068 non-null   int64 \n",
      " 16   buttockcircumference            6068 non-null   int64 \n",
      " 17   buttockdepth                    6068 non-null   int64 \n",
      " 18   buttockheight                   6068 non-null   int64 \n",
      " 19   buttockkneelength               6068 non-null   int64 \n",
      " 20   buttockpopliteallength          6068 non-null   int64 \n",
      " 21   calfcircumference               6068 non-null   int64 \n",
      " 22   cervicaleheight                 6068 non-null   int64 \n",
      " 23   chestbreadth                    6068 non-null   int64 \n",
      " 24   chestcircumference              6068 non-null   int64 \n",
      " 25   chestdepth                      6068 non-null   int64 \n",
      " 26   chestheight                     6068 non-null   int64 \n",
      " 27   crotchheight                    6068 non-null   int64 \n",
      " 28   crotchlengthomphalion           6068 non-null   int64 \n",
      " 29   crotchlengthposterioromphalion  6068 non-null   int64 \n",
      " 30   earbreadth                      6068 non-null   int64 \n",
      " 31   earlength                       6068 non-null   int64 \n",
      " 32   earprotrusion                   6068 non-null   int64 \n",
      " 33   elbowrestheight                 6068 non-null   int64 \n",
      " 34   eyeheightsitting                6068 non-null   int64 \n",
      " 35   footbreadthhorizontal           6068 non-null   int64 \n",
      " 36   footlength                      6068 non-null   int64 \n",
      " 37   forearmcenterofgriplength       6068 non-null   int64 \n",
      " 38   forearmcircumferenceflexed      6068 non-null   int64 \n",
      " 39   forearmforearmbreadth           6068 non-null   int64 \n",
      " 40   forearmhandlength               6068 non-null   int64 \n",
      " 41   functionalleglength             6068 non-null   int64 \n",
      " 42   handbreadth                     6068 non-null   int64 \n",
      " 43   handcircumference               6068 non-null   int64 \n",
      " 44   handlength                      6068 non-null   int64 \n",
      " 45   headbreadth                     6068 non-null   int64 \n",
      " 46   headcircumference               6068 non-null   int64 \n",
      " 47   headlength                      6068 non-null   int64 \n",
      " 48   heelanklecircumference          6068 non-null   int64 \n",
      " 49   heelbreadth                     6068 non-null   int64 \n",
      " 50   hipbreadth                      6068 non-null   int64 \n",
      " 51   hipbreadthsitting               6068 non-null   int64 \n",
      " 52   iliocristaleheight              6068 non-null   int64 \n",
      " 53   interpupillarybreadth           6068 non-null   int64 \n",
      " 54   interscyei                      6068 non-null   int64 \n",
      " 55   interscyeii                     6068 non-null   int64 \n",
      " 56   kneeheightmidpatella            6068 non-null   int64 \n",
      " 57   kneeheightsitting               6068 non-null   int64 \n",
      " 58   lateralfemoralepicondyleheight  6068 non-null   int64 \n",
      " 59   lateralmalleolusheight          6068 non-null   int64 \n",
      " 60   lowerthighcircumference         6068 non-null   int64 \n",
      " 61   mentonsellionlength             6068 non-null   int64 \n",
      " 62   neckcircumference               6068 non-null   int64 \n",
      " 63   neckcircumferencebase           6068 non-null   int64 \n",
      " 64   overheadfingertipreachsitting   6068 non-null   int64 \n",
      " 65   palmlength                      6068 non-null   int64 \n",
      " 66   poplitealheight                 6068 non-null   int64 \n",
      " 67   radialestylionlength            6068 non-null   int64 \n",
      " 68   shouldercircumference           6068 non-null   int64 \n",
      " 69   shoulderelbowlength             6068 non-null   int64 \n",
      " 70   shoulderlength                  6068 non-null   int64 \n",
      " 71   sittingheight                   6068 non-null   int64 \n",
      " 72   sleevelengthspinewrist          6068 non-null   int64 \n",
      " 73   sleeveoutseam                   6068 non-null   int64 \n",
      " 74   span                            6068 non-null   int64 \n",
      " 75   stature                         6068 non-null   int64 \n",
      " 76   suprasternaleheight             6068 non-null   int64 \n",
      " 77   tenthribheight                  6068 non-null   int64 \n",
      " 78   thighcircumference              6068 non-null   int64 \n",
      " 79   thighclearance                  6068 non-null   int64 \n",
      " 80   thumbtipreach                   6068 non-null   int64 \n",
      " 81   tibialheight                    6068 non-null   int64 \n",
      " 82   tragiontopofhead                6068 non-null   int64 \n",
      " 83   trochanterionheight             6068 non-null   int64 \n",
      " 84   verticaltrunkcircumferenceusa   6068 non-null   int64 \n",
      " 85   waistbacklength                 6068 non-null   int64 \n",
      " 86   waistbreadth                    6068 non-null   int64 \n",
      " 87   waistcircumference              6068 non-null   int64 \n",
      " 88   waistdepth                      6068 non-null   int64 \n",
      " 89   waistfrontlengthsitting         6068 non-null   int64 \n",
      " 90   waistheightomphalion            6068 non-null   int64 \n",
      " 91   weightkg                        6068 non-null   int64 \n",
      " 92   wristcircumference              6068 non-null   int64 \n",
      " 93   wristheight                     6068 non-null   int64 \n",
      " 94   Gender                          6068 non-null   object\n",
      " 95   Date                            6068 non-null   object\n",
      " 96   Installation                    6068 non-null   object\n",
      " 97   Component                       6068 non-null   object\n",
      " 98   Branch                          6068 non-null   object\n",
      " 99   PrimaryMOS                      6068 non-null   object\n",
      " 100  SubjectsBirthLocation           6068 non-null   object\n",
      " 101  SubjectNumericRace              6068 non-null   int64 \n",
      " 102  Ethnicity                       1421 non-null   object\n",
      " 103  DODRace                         6068 non-null   int64 \n",
      " 104  Age                             6068 non-null   int64 \n",
      " 105  Heightin                        6068 non-null   int64 \n",
      " 106  Weightlbs                       6068 non-null   int64 \n",
      " 107  WritingPreference               6068 non-null   object\n",
      "dtypes: int64(99), object(9)\n",
      "memory usage: 5.0+ MB\n"
     ]
    }
   ],
   "source": [
    "df.info(max_cols=109)"
   ]
  },
  {
   "cell_type": "code",
   "execution_count": 13,
   "metadata": {},
   "outputs": [
    {
     "data": {
      "text/plain": [
       "True"
      ]
     },
     "execution_count": 13,
     "metadata": {},
     "output_type": "execute_result"
    }
   ],
   "source": [
    "df.isnull().sum().any()"
   ]
  },
  {
   "cell_type": "code",
   "execution_count": 14,
   "metadata": {},
   "outputs": [
    {
     "data": {
      "text/plain": [
       "['Ethnicity']"
      ]
     },
     "execution_count": 14,
     "metadata": {},
     "output_type": "execute_result"
    }
   ],
   "source": [
    "drop_list = []\n",
    "for i in df:\n",
    "    if df[i].isnull().sum() > 0:\n",
    "        drop_list.append(i)\n",
    "drop_list        "
   ]
  },
  {
   "cell_type": "code",
   "execution_count": 15,
   "metadata": {},
   "outputs": [
    {
     "data": {
      "text/plain": [
       "0"
      ]
     },
     "execution_count": 15,
     "metadata": {},
     "output_type": "execute_result"
    }
   ],
   "source": [
    "df.duplicated().sum()"
   ]
  },
  {
   "cell_type": "code",
   "execution_count": 16,
   "metadata": {},
   "outputs": [
    {
     "data": {
      "text/plain": [
       "4647"
      ]
     },
     "execution_count": 16,
     "metadata": {},
     "output_type": "execute_result"
    }
   ],
   "source": [
    "df[\"Ethnicity\"].isnull().sum()"
   ]
  },
  {
   "cell_type": "code",
   "execution_count": 17,
   "metadata": {},
   "outputs": [
    {
     "name": "stdout",
     "output_type": "stream",
     "text": [
      "Gender has 2 uinqe value\n",
      "Date has 253 uinqe value\n",
      "Installation has 12 uinqe value\n",
      "Component has 3 uinqe value\n",
      "Branch has 3 uinqe value\n",
      "PrimaryMOS has 285 uinqe value\n",
      "SubjectsBirthLocation has 152 uinqe value\n",
      "Ethnicity has 209 uinqe value\n",
      "WritingPreference has 3 uinqe value\n"
     ]
    }
   ],
   "source": [
    "for i in df.select_dtypes(\"object\"):\n",
    "    print(f\"{i} has {df[i].nunique()} uinqe value\")    "
   ]
  },
  {
   "cell_type": "code",
   "execution_count": 18,
   "metadata": {},
   "outputs": [
    {
     "data": {
      "text/plain": [
       "11B     671\n",
       "88M     320\n",
       "92A     288\n",
       "91B     230\n",
       "68W     222\n",
       "       ... \n",
       "15D       1\n",
       "25G       1\n",
       "915E      1\n",
       "19B       1\n",
       "76B       1\n",
       "Name: PrimaryMOS, Length: 285, dtype: int64"
      ]
     },
     "execution_count": 18,
     "metadata": {},
     "output_type": "execute_result"
    }
   ],
   "source": [
    "# focus on BirthLocation, PrimaryMOS \n",
    "df[\"PrimaryMOS\"].value_counts() # drop it"
   ]
  },
  {
   "cell_type": "code",
   "execution_count": 19,
   "metadata": {},
   "outputs": [
    {
     "data": {
      "text/plain": [
       "California       446\n",
       "New York         420\n",
       "Texas            397\n",
       "Indiana          266\n",
       "Oklahoma         221\n",
       "                ... \n",
       "Ivory Coast        1\n",
       "Belarus            1\n",
       "New Zealand        1\n",
       "South America      1\n",
       "Denmark            1\n",
       "Name: SubjectsBirthLocation, Length: 152, dtype: int64"
      ]
     },
     "execution_count": 19,
     "metadata": {},
     "output_type": "execute_result"
    }
   ],
   "source": [
    "df[\"SubjectsBirthLocation\"].value_counts()"
   ]
  },
  {
   "cell_type": "code",
   "execution_count": 20,
   "metadata": {},
   "outputs": [],
   "source": [
    "countries_by_continent = {\n",
    "    \"Afghanistan\": \"Asia\",\n",
    "    \"Albania\": \"Europe\",\n",
    "    \"Algeria\": \"Africa\",\n",
    "    \"American Samoa\": \"Oceania\",\n",
    "    \"Andorra\": \"Europe\",\n",
    "    \"Angola\": \"Africa\",\n",
    "    \"Antigua and Barbuda\": \"North America\",\n",
    "    \"Argentina\": \"South America\",\n",
    "    \"Armenia\": \"Asia\",\n",
    "    \"Australia\": \"Oceania\",\n",
    "    \"Austria\": \"Europe\",\n",
    "    \"Azerbaijan\": \"Asia\",\n",
    "    \"Bahamas\": \"North America\",\n",
    "    \"Bahrain\": \"Asia\",\n",
    "    \"Bangladesh\": \"Asia\",\n",
    "    \"Barbados\": \"North America\",\n",
    "    \"Belarus\": \"Europe\",\n",
    "    \"Belgium\": \"Europe\",\n",
    "    \"Belize\": \"North America\",\n",
    "    \"Benin\": \"Africa\",\n",
    "    \"Bhutan\": \"Asia\",\n",
    "    \"Bolivia\": \"South America\",\n",
    "    \"Bosnia and Herzegovina\": \"Europe\",\n",
    "    \"Botswana\": \"Africa\",\n",
    "    \"Brazil\": \"South America\",\n",
    "    \"British Virgin Islands\": \"North America\",\n",
    "    \"Brunei\": \"Asia\",\n",
    "    \"Bulgaria\": \"Europe\",\n",
    "    \"Burkina Faso\": \"Africa\",\n",
    "    \"Burundi\": \"Africa\",\n",
    "    \"Cambodia\": \"Asia\",\n",
    "    \"Cameroon\": \"Africa\",\n",
    "    \"Canada\": \"North America\",\n",
    "    \"Cape Verde\": \"Africa\",\n",
    "    \"Central African Republic\": \"Africa\",\n",
    "    \"Chad\": \"Africa\",\n",
    "    \"Chile\": \"South America\",\n",
    "    \"China\": \"Asia\",\n",
    "    \"Colombia\": \"South America\",\n",
    "    \"Comoros\": \"Africa\",\n",
    "    \"Congo, Democratic Republic of the\": \"Africa\",\n",
    "    \"Congo, Republic of the\": \"Africa\",\n",
    "    \"Costa Rica\": \"North America\",\n",
    "    \"Côte d'Ivoire\": \"Africa\",\n",
    "    \"Croatia\": \"Europe\",\n",
    "    \"Cuba\": \"North America\",\n",
    "    \"Cyprus\": \"Europe\",\n",
    "    \"Czech Republic\": \"Europe\",\n",
    "    \"Denmark\": \"Europe\",\n",
    "    \"Djibouti\": \"Africa\",\n",
    "    \"Dominica\": \"North America\",\n",
    "    \"Dominican Republic\": \"North America\",\n",
    "    \"East Timor\": \"Asia\",\n",
    "    \"Ecuador\": \"South America\",\n",
    "    \"Egypt\": \"Africa\",\n",
    "    \"El Salvador\": \"North America\",\n",
    "    \"England\": \"Europe\",\n",
    "    \"Equatorial Guinea\": \"Africa\",\n",
    "    \"Eritrea\": \"Africa\",\n",
    "    \"Estonia\": \"Europe\",\n",
    "    \"Eswatini\": \"Africa\",\n",
    "    \"Ethiopia\": \"Africa\",\n",
    "    \"Federated States of Micronesia\": \"Oceania\",\n",
    "    \"Fiji\": \"Oceania\",\n",
    "    \"Finland\": \"Europe\",\n",
    "    \"France\": \"Europe\",\n",
    "    \"French Guiana\": \"South America\",\n",
    "    \"Gabon\": \"Africa\",\n",
    "    \"Gambia\": \"Africa\",\n",
    "    \"Georgia\": \"Asia\",\n",
    "    \"Germany\": \"Europe\",\n",
    "    \"Ghana\": \"Africa\",\n",
    "    \"Greece\": \"Europe\",\n",
    "    \"Grenada\": \"North America\",\n",
    "    \"Guam\": \"Oceania\",\n",
    "    \"Guadalupe\" : \"North America\",\n",
    "    \"Guatemala\": \"North America\",\n",
    "    \"Guinea\": \"Africa\",\n",
    "    \"Guinea-Bissau\": \"Africa\",\n",
    "    \"Guyana\": \"South America\",\n",
    "    \"Haiti\": \"North America\",\n",
    "    \"Honduras\": \"North America\",\n",
    "    \"Hungary\": \"Europe\",\n",
    "    \"Iceland\": \"Europe\",\n",
    "    \"India\": \"Asia\",\n",
    "    \"Indonesia\": \"Asia\",\n",
    "    \"Iran\": \"Asia\",\n",
    "    \"Iraq\": \"Asia\",\n",
    "    \"Ireland\": \"Europe\",\n",
    "    \"Israel\": \"Asia\",\n",
    "    \"Italy\": \"Europe\",\n",
    "    \"Ivory Coast\": \"Africa\",\n",
    "    \"Jamaica\": \"North America\",\n",
    "    \"Japan\": \"Asia\",\n",
    "    \"Jordan\": \"Asia\",\n",
    "    \"Kazakhstan\": \"Asia\",\n",
    "    \"Kenya\": \"Africa\",\n",
    "    \"Kiribati\": \"Oceania\",\n",
    "    \"Kosovo\": \"Europe\",\n",
    "    \"Kuwait\": \"Asia\",\n",
    "    \"Kyrgyzstan\": \"Asia\",\n",
    "    \"Laos\": \"Asia\",\n",
    "    \"Latvia\": \"Europe\",\n",
    "    \"Lebanon\": \"Asia\",\n",
    "    \"Lesotho\": \"Africa\",\n",
    "    \"Liberia\": \"Africa\",\n",
    "    \"Libya\": \"Africa\",\n",
    "    \"Liechtenstein\": \"Europe\",\n",
    "    \"Lithuania\": \"Europe\",\n",
    "    \"Luxembourg\": \"Europe\",\n",
    "    \"Macedonia, Republic of\": \"Europe\",\n",
    "    \"Madagascar\": \"Africa\",\n",
    "    \"Malawi\": \"Africa\",\n",
    "    \"Malaysia\": \"Asia\",\n",
    "    \"Maldives\": \"Asia\",\n",
    "    \"Mali\": \"Africa\",\n",
    "    \"Malta\": \"Europe\",\n",
    "    \"Marshall Islands\": \"Oceania\",\n",
    "    \"Mauritania\": \"Africa\",\n",
    "    \"Mauritius\": \"Africa\",\n",
    "    \"Mexico\": \"North America\",\n",
    "    \"Micronesia\": \"Oceania\",\n",
    "    \"Moldova\": \"Europe\",\n",
    "    \"Monaco\": \"Europe\",\n",
    "    \"Mongolia\": \"Asia\",\n",
    "    \"Montenegro\": \"Europe\",\n",
    "    \"Morocco\": \"Africa\",\n",
    "    \"Mozambique\": \"Africa\",\n",
    "    \"Myanmar (Burma)\": \"Asia\",\n",
    "    \"Namibia\": \"Africa\",\n",
    "    \"Nauru\": \"Oceania\",\n",
    "    \"Nepal\": \"Asia\",\n",
    "    \"Netherlands\": \"Europe\",\n",
    "    \"New Zealand\": \"Oceania\",\n",
    "    \"Nicaragua\": \"North America\",\n",
    "    \"Niger\": \"Africa\",\n",
    "    \"Nigeria\": \"Africa\",\n",
    "    \"North Korea\": \"Asia\",\n",
    "    \"Norway\": \"Europe\",\n",
    "    \"Oman\": \"Asia\",\n",
    "    \"Pakistan\": \"Asia\",\n",
    "    \"Palau\": \"Oceania\",\n",
    "    \"Palestine\": \"Asia\",\n",
    "    \"Panama\": \"North America\",\n",
    "    \"Papua New Guinea\": \"Oceania\",\n",
    "    \"Paraguay\": \"South America\",\n",
    "    \"Peru\": \"South America\",\n",
    "    \"Philippines\": \"Asia\",\n",
    "    \"Poland\": \"Europe\",\n",
    "    \"Portugal\": \"Europe\",\n",
    "    \"Puerto Rico\": \"North America\",\n",
    "    \"Qatar\": \"Asia\",\n",
    "    \"Romania\": \"Europe\",\n",
    "    \"Russia\": \"Europe\",\n",
    "    \"Rwanda\": \"Africa\",\n",
    "    \"Saint Kitts and Nevis\": \"North America\",\n",
    "    \"Saint Lucia\": \"North America\",\n",
    "    \"Saint Vincent and the Grenadines\": \"North America\",\n",
    "    \"Samoa\": \"Oceania\",\n",
    "    \"San Marino\": \"Europe\",\n",
    "    \"Sao Tome and Principe\": \"Africa\",\n",
    "    \"Saudi Arabia\": \"Asia\",\n",
    "    \"Scotland\": \"Europe\",\n",
    "    \"Senegal\": \"Africa\",\n",
    "    \"Serbia\": \"Europe\",\n",
    "    \"Seychelles\": \"Africa\",\n",
    "    \"Sierra Leone\": \"Africa\",\n",
    "    \"Singapore\": \"Asia\",\n",
    "    \"Slovakia\": \"Europe\",\n",
    "    \"Slovenia\": \"Europe\",\n",
    "    \"Solomon Islands\": \"Oceania\",\n",
    "    \"Somalia\": \"Africa\",\n",
    "    \"South Africa\": \"Africa\",\n",
    "    \"South Korea\": \"Asia\",\n",
    "    \"South Sudan\": \"Africa\",\n",
    "    \"Spain\": \"Europe\",\n",
    "    \"Sri Lanka\": \"Asia\",\n",
    "    \"Sudan\": \"Africa\",\n",
    "    \"Suriname\": \"South America\",\n",
    "    \"Swaziland\": \"Africa\",\n",
    "    \"Sweden\": \"Europe\",\n",
    "    \"Switzerland\": \"Europe\",\n",
    "    \"Syria\": \"Asia\",\n",
    "    \"Taiwan\": \"Asia\",\n",
    "    \"Tajikistan\": \"Asia\",\n",
    "    \"Tanzania\": \"Africa\",\n",
    "    \"Thailand\": \"Asia\",\n",
    "    \"Togo\": \"Africa\",\n",
    "    \"Tonga\": \"Oceania\",\n",
    "    \"Trinidad and Tobago\": \"North America\",\n",
    "    \"Tunisia\": \"Africa\",\n",
    "    \"Turkey\": \"Europe\",\n",
    "    \"Turkmenistan\": \"Asia\",\n",
    "    \"Tuvalu\": \"Oceania\",\n",
    "    \"Uganda\": \"Africa\",\n",
    "    \"Ukraine\": \"Europe\",\n",
    "    \"United Arab Emirates\": \"Asia\",\n",
    "    \"United Kingdom\": \"Europe\",\n",
    "    \"United States\": \"North America\",\n",
    "    \"Uruguay\": \"South America\",\n",
    "    \"US Virgin Islands\": \"North America\",\n",
    "    \"Uzbekistan\": \"Asia\",\n",
    "    \"Vanuatu\": \"Oceania\",\n",
    "    \"Vatican City\": \"Europe\",\n",
    "    \"Venezuela\": \"South America\",\n",
    "    \"Vietnam\": \"Asia\",\n",
    "    \"Wales\": \"Europe\",\n",
    "    \"Yemen\": \"Asia\",\n",
    "    \"Zambia\": \"Africa\",\n",
    "    \"Zimbabwe\": \"Africa\",\n",
    "    \"South America\": \"South America\",\n",
    "    \"Burma\": \"Asia\",\n",
    "    \"Korea\": \"Asia\",\n",
    "    \"Northern Mariana Islands\": \"Oceania\",\n",
    "    \"Bermuda\": \"North America\",\n",
    "}\n"
   ]
  },
  {
   "cell_type": "code",
   "execution_count": 21,
   "metadata": {},
   "outputs": [],
   "source": [
    "states_by_region = {\n",
    "    \"Alabama\": \"South\",\n",
    "    \"Alaska\": \"West\",\n",
    "    \"Arizona\": \"West\",\n",
    "    \"Arkansas\": \"South\",\n",
    "    \"California\": \"West\",\n",
    "    \"Colorado\": \"West\",\n",
    "    \"Connecticut\": \"Northeast\",\n",
    "    \"Delaware\": \"Mid Atlantic\",\n",
    "    \"Florida\": \"South\",\n",
    "    \"Georgia\": \"South\",\n",
    "    \"Hawaii\": \"West\",\n",
    "    \"Idaho\": \"West\",\n",
    "    \"Illinois\": \"Midwest\",\n",
    "    \"Indiana\": \"Midwest\",\n",
    "    \"Iowa\": \"Midwest\",\n",
    "    \"Kansas\": \"Midwest\",\n",
    "    \"Kentucky\": \"South\",\n",
    "    \"Louisiana\": \"South\",\n",
    "    \"Maine\": \"Northeast\",\n",
    "    \"Maryland\": \"Mid Atlantic\",\n",
    "    \"Massachusetts\": \"Northeast\",\n",
    "    \"Michigan\": \"Midwest\",\n",
    "    \"Minnesota\": \"Midwest\",\n",
    "    \"Mississippi\": \"South\",\n",
    "    \"Missouri\": \"Midwest\",\n",
    "    \"Montana\": \"West\",\n",
    "    \"Nebraska\": \"Midwest\",\n",
    "    \"Nevada\": \"West\",\n",
    "    \"New Hampshire\": \"Northeast\",\n",
    "    \"New Jersey\": \"Mid Atlantic\",\n",
    "    \"New Mexico\": \"West\",\n",
    "    \"New York\": \"Northeast\",\n",
    "    \"North Carolina\": \"South\",\n",
    "    \"North Dakota\": \"Midwest\",\n",
    "    \"Ohio\": \"Midwest\",\n",
    "    \"Oklahoma\": \"South\",\n",
    "    \"Oregon\": \"West\",\n",
    "    \"Pennsylvania\": \"Mid Atlantic\",\n",
    "    \"Rhode Island\": \"Northeast\",\n",
    "    \"South Carolina\": \"South\",\n",
    "    \"South Dakota\": \"Midwest\",\n",
    "    \"Tennessee\": \"South\",\n",
    "    \"Texas\": \"South\",\n",
    "    \"Utah\": \"West\",\n",
    "    \"Vermont\": \"Northeast\",\n",
    "    \"Virginia\": \"Mid Atlantic\",\n",
    "    \"Washington\": \"West\",\n",
    "    \"West Virginia\": \"South\",\n",
    "    \"Wisconsin\": \"Midwest\",\n",
    "    \"Wyoming\": \"West\",\n",
    "    \"District of Columbia\": \"Mid Atlantic\"\n",
    "}\n"
   ]
  },
  {
   "cell_type": "code",
   "execution_count": 22,
   "metadata": {},
   "outputs": [
    {
     "data": {
      "text/plain": [
       "California              446\n",
       "New York                420\n",
       "Texas                   397\n",
       "Indiana                 266\n",
       "North America           265\n",
       "Oklahoma                221\n",
       "Illinois                216\n",
       "Florida                 210\n",
       "Minnesota               200\n",
       "Michigan                196\n",
       "Mississippi             194\n",
       "Georgia                 170\n",
       "Alabama                 164\n",
       "South Carolina          161\n",
       "North Carolina          149\n",
       "Europe                  149\n",
       "Asia                    144\n",
       "Ohio                    142\n",
       "Louisiana               137\n",
       "Pennsylvania            132\n",
       "Virginia                118\n",
       "Massachusetts           112\n",
       "Wisconsin               102\n",
       "New Jersey               89\n",
       "Missouri                 84\n",
       "Arizona                  84\n",
       "Colorado                 81\n",
       "Maryland                 80\n",
       "Tennessee                74\n",
       "Kentucky                 69\n",
       "Washington               66\n",
       "Kansas                   63\n",
       "South Dakota             56\n",
       "Iowa                     55\n",
       "Arkansas                 54\n",
       "South America            44\n",
       "Oregon                   42\n",
       "Connecticut              36\n",
       "Africa                   35\n",
       "Nebraska                 31\n",
       "Hawaii                   29\n",
       "Utah                     28\n",
       "West Virginia            26\n",
       "Oceania                  25\n",
       "Nevada                   24\n",
       "Idaho                    20\n",
       "Rhode Island             19\n",
       "District of Columbia     19\n",
       "Maine                    18\n",
       "North Dakota             18\n",
       "New Mexico               17\n",
       "Delaware                 17\n",
       "New Hampshire            14\n",
       "Vermont                  13\n",
       "Montana                  12\n",
       "Alaska                    8\n",
       "Wyoming                   7\n",
       "Name: SubjectsBirthLocation, dtype: int64"
      ]
     },
     "execution_count": 22,
     "metadata": {},
     "output_type": "execute_result"
    }
   ],
   "source": [
    "df[\"SubjectsBirthLocation\"] = [i if i in states_by_region else countries_by_continent[i] for i in df[\"SubjectsBirthLocation\"].values ]\n",
    "df[\"SubjectsBirthLocation\"].value_counts()"
   ]
  },
  {
   "cell_type": "code",
   "execution_count": 23,
   "metadata": {},
   "outputs": [
    {
     "data": {
      "text/plain": [
       "57"
      ]
     },
     "execution_count": 23,
     "metadata": {},
     "output_type": "execute_result"
    }
   ],
   "source": [
    "df[\"SubjectsBirthLocation\"].nunique()"
   ]
  },
  {
   "cell_type": "code",
   "execution_count": 24,
   "metadata": {
    "colab": {
     "base_uri": "https://localhost:8080/",
     "height": 17
    },
    "hidden": true,
    "id": "SnlGRPWbrNAj",
    "outputId": "29ed8227-1450-4213-e9d1-a2953167d415"
   },
   "outputs": [],
   "source": [
    "drop_list = [\"Ethnicity\", \"Date\", \"Installation\", \"Component\", \"Branch\", \"PrimaryMOS\", \"Weightlbs\", \"Heightin\"\n",
    "             , \"subjectid\", \"SubjectNumericRace\" ]\n",
    "\n",
    "df.drop(columns= drop_list, inplace= True )"
   ]
  },
  {
   "cell_type": "code",
   "execution_count": 25,
   "metadata": {},
   "outputs": [
    {
     "name": "stdout",
     "output_type": "stream",
     "text": [
      "<class 'pandas.core.frame.DataFrame'>\n",
      "RangeIndex: 6068 entries, 0 to 6067\n",
      "Data columns (total 98 columns):\n",
      " #   Column                          Non-Null Count  Dtype \n",
      "---  ------                          --------------  ----- \n",
      " 0   abdominalextensiondepthsitting  6068 non-null   int64 \n",
      " 1   acromialheight                  6068 non-null   int64 \n",
      " 2   acromionradialelength           6068 non-null   int64 \n",
      " 3   anklecircumference              6068 non-null   int64 \n",
      " 4   axillaheight                    6068 non-null   int64 \n",
      " 5   balloffootcircumference         6068 non-null   int64 \n",
      " 6   balloffootlength                6068 non-null   int64 \n",
      " 7   biacromialbreadth               6068 non-null   int64 \n",
      " 8   bicepscircumferenceflexed       6068 non-null   int64 \n",
      " 9   bicristalbreadth                6068 non-null   int64 \n",
      " 10  bideltoidbreadth                6068 non-null   int64 \n",
      " 11  bimalleolarbreadth              6068 non-null   int64 \n",
      " 12  bitragionchinarc                6068 non-null   int64 \n",
      " 13  bitragionsubmandibulararc       6068 non-null   int64 \n",
      " 14  bizygomaticbreadth              6068 non-null   int64 \n",
      " 15  buttockcircumference            6068 non-null   int64 \n",
      " 16  buttockdepth                    6068 non-null   int64 \n",
      " 17  buttockheight                   6068 non-null   int64 \n",
      " 18  buttockkneelength               6068 non-null   int64 \n",
      " 19  buttockpopliteallength          6068 non-null   int64 \n",
      " 20  calfcircumference               6068 non-null   int64 \n",
      " 21  cervicaleheight                 6068 non-null   int64 \n",
      " 22  chestbreadth                    6068 non-null   int64 \n",
      " 23  chestcircumference              6068 non-null   int64 \n",
      " 24  chestdepth                      6068 non-null   int64 \n",
      " 25  chestheight                     6068 non-null   int64 \n",
      " 26  crotchheight                    6068 non-null   int64 \n",
      " 27  crotchlengthomphalion           6068 non-null   int64 \n",
      " 28  crotchlengthposterioromphalion  6068 non-null   int64 \n",
      " 29  earbreadth                      6068 non-null   int64 \n",
      " 30  earlength                       6068 non-null   int64 \n",
      " 31  earprotrusion                   6068 non-null   int64 \n",
      " 32  elbowrestheight                 6068 non-null   int64 \n",
      " 33  eyeheightsitting                6068 non-null   int64 \n",
      " 34  footbreadthhorizontal           6068 non-null   int64 \n",
      " 35  footlength                      6068 non-null   int64 \n",
      " 36  forearmcenterofgriplength       6068 non-null   int64 \n",
      " 37  forearmcircumferenceflexed      6068 non-null   int64 \n",
      " 38  forearmforearmbreadth           6068 non-null   int64 \n",
      " 39  forearmhandlength               6068 non-null   int64 \n",
      " 40  functionalleglength             6068 non-null   int64 \n",
      " 41  handbreadth                     6068 non-null   int64 \n",
      " 42  handcircumference               6068 non-null   int64 \n",
      " 43  handlength                      6068 non-null   int64 \n",
      " 44  headbreadth                     6068 non-null   int64 \n",
      " 45  headcircumference               6068 non-null   int64 \n",
      " 46  headlength                      6068 non-null   int64 \n",
      " 47  heelanklecircumference          6068 non-null   int64 \n",
      " 48  heelbreadth                     6068 non-null   int64 \n",
      " 49  hipbreadth                      6068 non-null   int64 \n",
      " 50  hipbreadthsitting               6068 non-null   int64 \n",
      " 51  iliocristaleheight              6068 non-null   int64 \n",
      " 52  interpupillarybreadth           6068 non-null   int64 \n",
      " 53  interscyei                      6068 non-null   int64 \n",
      " 54  interscyeii                     6068 non-null   int64 \n",
      " 55  kneeheightmidpatella            6068 non-null   int64 \n",
      " 56  kneeheightsitting               6068 non-null   int64 \n",
      " 57  lateralfemoralepicondyleheight  6068 non-null   int64 \n",
      " 58  lateralmalleolusheight          6068 non-null   int64 \n",
      " 59  lowerthighcircumference         6068 non-null   int64 \n",
      " 60  mentonsellionlength             6068 non-null   int64 \n",
      " 61  neckcircumference               6068 non-null   int64 \n",
      " 62  neckcircumferencebase           6068 non-null   int64 \n",
      " 63  overheadfingertipreachsitting   6068 non-null   int64 \n",
      " 64  palmlength                      6068 non-null   int64 \n",
      " 65  poplitealheight                 6068 non-null   int64 \n",
      " 66  radialestylionlength            6068 non-null   int64 \n",
      " 67  shouldercircumference           6068 non-null   int64 \n",
      " 68  shoulderelbowlength             6068 non-null   int64 \n",
      " 69  shoulderlength                  6068 non-null   int64 \n",
      " 70  sittingheight                   6068 non-null   int64 \n",
      " 71  sleevelengthspinewrist          6068 non-null   int64 \n",
      " 72  sleeveoutseam                   6068 non-null   int64 \n",
      " 73  span                            6068 non-null   int64 \n",
      " 74  stature                         6068 non-null   int64 \n",
      " 75  suprasternaleheight             6068 non-null   int64 \n",
      " 76  tenthribheight                  6068 non-null   int64 \n",
      " 77  thighcircumference              6068 non-null   int64 \n",
      " 78  thighclearance                  6068 non-null   int64 \n",
      " 79  thumbtipreach                   6068 non-null   int64 \n",
      " 80  tibialheight                    6068 non-null   int64 \n",
      " 81  tragiontopofhead                6068 non-null   int64 \n",
      " 82  trochanterionheight             6068 non-null   int64 \n",
      " 83  verticaltrunkcircumferenceusa   6068 non-null   int64 \n",
      " 84  waistbacklength                 6068 non-null   int64 \n",
      " 85  waistbreadth                    6068 non-null   int64 \n",
      " 86  waistcircumference              6068 non-null   int64 \n",
      " 87  waistdepth                      6068 non-null   int64 \n",
      " 88  waistfrontlengthsitting         6068 non-null   int64 \n",
      " 89  waistheightomphalion            6068 non-null   int64 \n",
      " 90  weightkg                        6068 non-null   int64 \n",
      " 91  wristcircumference              6068 non-null   int64 \n",
      " 92  wristheight                     6068 non-null   int64 \n",
      " 93  Gender                          6068 non-null   object\n",
      " 94  SubjectsBirthLocation           6068 non-null   object\n",
      " 95  DODRace                         6068 non-null   int64 \n",
      " 96  Age                             6068 non-null   int64 \n",
      " 97  WritingPreference               6068 non-null   object\n",
      "dtypes: int64(95), object(3)\n",
      "memory usage: 4.5+ MB\n"
     ]
    }
   ],
   "source": [
    "df.info()\n"
   ]
  },
  {
   "cell_type": "code",
   "execution_count": 26,
   "metadata": {},
   "outputs": [
    {
     "data": {
      "text/plain": [
       "Male      4082\n",
       "Female    1986\n",
       "Name: Gender, dtype: int64"
      ]
     },
     "execution_count": 26,
     "metadata": {},
     "output_type": "execute_result"
    }
   ],
   "source": [
    "df['Gender'].value_counts()"
   ]
  },
  {
   "cell_type": "code",
   "execution_count": 27,
   "metadata": {},
   "outputs": [
    {
     "data": {
      "text/plain": [
       "Right hand                     5350\n",
       "Left hand                       656\n",
       "Either hand (No preference)      62\n",
       "Name: WritingPreference, dtype: int64"
      ]
     },
     "execution_count": 27,
     "metadata": {},
     "output_type": "execute_result"
    }
   ],
   "source": [
    " df['WritingPreference'].value_counts() "
   ]
  },
  {
   "cell_type": "code",
   "execution_count": 28,
   "metadata": {},
   "outputs": [
    {
     "data": {
      "text/plain": [
       "1    3792\n",
       "2    1298\n",
       "3     679\n",
       "4     188\n",
       "6      59\n",
       "5      49\n",
       "8       3\n",
       "Name: DODRace, dtype: int64"
      ]
     },
     "execution_count": 28,
     "metadata": {},
     "output_type": "execute_result"
    }
   ],
   "source": [
    " df['DODRace'].value_counts() "
   ]
  },
  {
   "cell_type": "code",
   "execution_count": 29,
   "metadata": {},
   "outputs": [
    {
     "data": {
      "text/plain": [
       "1    3792\n",
       "2    1298\n",
       "3     679\n",
       "Name: DODRace, dtype: int64"
      ]
     },
     "execution_count": 29,
     "metadata": {},
     "output_type": "execute_result"
    }
   ],
   "source": [
    "df = df[df['DODRace'].isin([1,2,3])]\n",
    "df['DODRace'].value_counts()     "
   ]
  },
  {
   "cell_type": "code",
   "execution_count": 30,
   "metadata": {},
   "outputs": [
    {
     "data": {
      "text/plain": [
       "<AxesSubplot:>"
      ]
     },
     "execution_count": 30,
     "metadata": {},
     "output_type": "execute_result"
    },
    {
     "data": {
      "image/png": "[encoded data removed]",
      "text/plain": [
       "<Figure size 432x288 with 1 Axes>"
      ]
     },
     "metadata": {
      "needs_background": "light"
     },
     "output_type": "display_data"
    }
   ],
   "source": [
    "df[\"DODRace\"].value_counts().plot(kind=\"bar\")"
   ]
  },
  {
   "cell_type": "code",
   "execution_count": 31,
   "metadata": {},
   "outputs": [
    {
     "data": {
      "text/plain": [
       "<AxesSubplot:>"
      ]
     },
     "execution_count": 31,
     "metadata": {},
     "output_type": "execute_result"
    },
    {
     "data": {
      "image/png": "[encoded data removed]",
      "text/plain": [
       "<Figure size 1440x1440 with 2 Axes>"
      ]
     },
     "metadata": {
      "needs_background": "light"
     },
     "output_type": "display_data"
    }
   ],
   "source": [
    "plt.figure(figsize=(20,20))\n",
    "sns.heatmap(df.corr(), cmap =\"viridis\")"
   ]
  },
  {
   "cell_type": "code",
   "execution_count": 32,
   "metadata": {},
   "outputs": [
    {
     "data": {
      "text/plain": [
       "<AxesSubplot:>"
      ]
     },
     "execution_count": 32,
     "metadata": {},
     "output_type": "execute_result"
    },
    {
     "data": {
      "image/png": "[encoded data removed]",
      "text/plain": [
       "<Figure size 432x288 with 1 Axes>"
      ]
     },
     "metadata": {
      "needs_background": "light"
     },
     "output_type": "display_data"
    }
   ],
   "source": [
    "df.boxplot(column=\"DODRace\")"
   ]
  },
  {
   "cell_type": "code",
   "execution_count": 33,
   "metadata": {},
   "outputs": [],
   "source": [
    "df['Gender'] = df['Gender'].map({'Male': 0,'Female': 1})\n",
    "df['WritingPreference'] = df['WritingPreference'].map({  'Left hand': 1, 'Right hand': 2,'Either hand (No preference)': 3})"
   ]
  },
  {
   "cell_type": "code",
   "execution_count": 34,
   "metadata": {},
   "outputs": [],
   "source": [
    "df[\"DODRace\"] = df[\"DODRace\"].map({1 : \"White\", 2 : \"Black\", 3 : \"Hispanic\"})\n",
    "df = df.copy()"
   ]
  },
  {
   "cell_type": "code",
   "execution_count": 35,
   "metadata": {},
   "outputs": [
    {
     "data": {
      "text/html": [
       "<div>\n",
       "<style scoped>\n",
       "    .dataframe tbody tr th:only-of-type {\n",
       "        vertical-align: middle;\n",
       "    }\n",
       "\n",
       "    .dataframe tbody tr th {\n",
       "        vertical-align: top;\n",
       "    }\n",
       "\n",
       "    .dataframe thead th {\n",
       "        text-align: right;\n",
       "    }\n",
       "</style>\n",
       "<table border=\"1\" class=\"dataframe\">\n",
       "  <thead>\n",
       "    <tr style=\"text-align: right;\">\n",
       "      <th></th>\n",
       "      <th>abdominalextensiondepthsitting</th>\n",
       "      <th>acromialheight</th>\n",
       "      <th>acromionradialelength</th>\n",
       "      <th>anklecircumference</th>\n",
       "      <th>axillaheight</th>\n",
       "      <th>balloffootcircumference</th>\n",
       "      <th>balloffootlength</th>\n",
       "      <th>biacromialbreadth</th>\n",
       "      <th>bicepscircumferenceflexed</th>\n",
       "      <th>bicristalbreadth</th>\n",
       "      <th>...</th>\n",
       "      <th>waistfrontlengthsitting</th>\n",
       "      <th>waistheightomphalion</th>\n",
       "      <th>weightkg</th>\n",
       "      <th>wristcircumference</th>\n",
       "      <th>wristheight</th>\n",
       "      <th>Gender</th>\n",
       "      <th>SubjectsBirthLocation</th>\n",
       "      <th>DODRace</th>\n",
       "      <th>Age</th>\n",
       "      <th>WritingPreference</th>\n",
       "    </tr>\n",
       "  </thead>\n",
       "  <tbody>\n",
       "    <tr>\n",
       "      <th>0</th>\n",
       "      <td>266</td>\n",
       "      <td>1467</td>\n",
       "      <td>337</td>\n",
       "      <td>222</td>\n",
       "      <td>1347</td>\n",
       "      <td>253</td>\n",
       "      <td>202</td>\n",
       "      <td>401</td>\n",
       "      <td>369</td>\n",
       "      <td>274</td>\n",
       "      <td>...</td>\n",
       "      <td>440</td>\n",
       "      <td>1054</td>\n",
       "      <td>815</td>\n",
       "      <td>175</td>\n",
       "      <td>853</td>\n",
       "      <td>0</td>\n",
       "      <td>North Dakota</td>\n",
       "      <td>White</td>\n",
       "      <td>41</td>\n",
       "      <td>2</td>\n",
       "    </tr>\n",
       "    <tr>\n",
       "      <th>1</th>\n",
       "      <td>233</td>\n",
       "      <td>1395</td>\n",
       "      <td>326</td>\n",
       "      <td>220</td>\n",
       "      <td>1293</td>\n",
       "      <td>245</td>\n",
       "      <td>193</td>\n",
       "      <td>394</td>\n",
       "      <td>338</td>\n",
       "      <td>257</td>\n",
       "      <td>...</td>\n",
       "      <td>371</td>\n",
       "      <td>1054</td>\n",
       "      <td>726</td>\n",
       "      <td>167</td>\n",
       "      <td>815</td>\n",
       "      <td>0</td>\n",
       "      <td>New York</td>\n",
       "      <td>White</td>\n",
       "      <td>35</td>\n",
       "      <td>1</td>\n",
       "    </tr>\n",
       "    <tr>\n",
       "      <th>2</th>\n",
       "      <td>287</td>\n",
       "      <td>1430</td>\n",
       "      <td>341</td>\n",
       "      <td>230</td>\n",
       "      <td>1327</td>\n",
       "      <td>256</td>\n",
       "      <td>196</td>\n",
       "      <td>427</td>\n",
       "      <td>408</td>\n",
       "      <td>261</td>\n",
       "      <td>...</td>\n",
       "      <td>411</td>\n",
       "      <td>1041</td>\n",
       "      <td>929</td>\n",
       "      <td>180</td>\n",
       "      <td>831</td>\n",
       "      <td>0</td>\n",
       "      <td>New York</td>\n",
       "      <td>Black</td>\n",
       "      <td>42</td>\n",
       "      <td>1</td>\n",
       "    </tr>\n",
       "    <tr>\n",
       "      <th>3</th>\n",
       "      <td>234</td>\n",
       "      <td>1347</td>\n",
       "      <td>310</td>\n",
       "      <td>230</td>\n",
       "      <td>1239</td>\n",
       "      <td>262</td>\n",
       "      <td>199</td>\n",
       "      <td>401</td>\n",
       "      <td>359</td>\n",
       "      <td>262</td>\n",
       "      <td>...</td>\n",
       "      <td>399</td>\n",
       "      <td>968</td>\n",
       "      <td>794</td>\n",
       "      <td>176</td>\n",
       "      <td>793</td>\n",
       "      <td>0</td>\n",
       "      <td>Wisconsin</td>\n",
       "      <td>White</td>\n",
       "      <td>31</td>\n",
       "      <td>2</td>\n",
       "    </tr>\n",
       "    <tr>\n",
       "      <th>4</th>\n",
       "      <td>250</td>\n",
       "      <td>1585</td>\n",
       "      <td>372</td>\n",
       "      <td>247</td>\n",
       "      <td>1478</td>\n",
       "      <td>267</td>\n",
       "      <td>224</td>\n",
       "      <td>435</td>\n",
       "      <td>356</td>\n",
       "      <td>263</td>\n",
       "      <td>...</td>\n",
       "      <td>379</td>\n",
       "      <td>1245</td>\n",
       "      <td>946</td>\n",
       "      <td>188</td>\n",
       "      <td>954</td>\n",
       "      <td>0</td>\n",
       "      <td>North Carolina</td>\n",
       "      <td>Black</td>\n",
       "      <td>21</td>\n",
       "      <td>2</td>\n",
       "    </tr>\n",
       "  </tbody>\n",
       "</table>\n",
       "<p>5 rows × 98 columns</p>\n",
       "</div>"
      ],
      "text/plain": [
       "   abdominalextensiondepthsitting  acromialheight  acromionradialelength  \\\n",
       "0                             266            1467                    337   \n",
       "1                             233            1395                    326   \n",
       "2                             287            1430                    341   \n",
       "3                             234            1347                    310   \n",
       "4                             250            1585                    372   \n",
       "\n",
       "   anklecircumference  axillaheight  balloffootcircumference  \\\n",
       "0                 222          1347                      253   \n",
       "1                 220          1293                      245   \n",
       "2                 230          1327                      256   \n",
       "3                 230          1239                      262   \n",
       "4                 247          1478                      267   \n",
       "\n",
       "   balloffootlength  biacromialbreadth  bicepscircumferenceflexed  \\\n",
       "0               202                401                        369   \n",
       "1               193                394                        338   \n",
       "2               196                427                        408   \n",
       "3               199                401                        359   \n",
       "4               224                435                        356   \n",
       "\n",
       "   bicristalbreadth  ...  waistfrontlengthsitting  waistheightomphalion  \\\n",
       "0               274  ...                      440                  1054   \n",
       "1               257  ...                      371                  1054   \n",
       "2               261  ...                      411                  1041   \n",
       "3               262  ...                      399                   968   \n",
       "4               263  ...                      379                  1245   \n",
       "\n",
       "   weightkg  wristcircumference  wristheight  Gender  SubjectsBirthLocation  \\\n",
       "0       815                 175          853       0           North Dakota   \n",
       "1       726                 167          815       0               New York   \n",
       "2       929                 180          831       0               New York   \n",
       "3       794                 176          793       0              Wisconsin   \n",
       "4       946                 188          954       0         North Carolina   \n",
       "\n",
       "   DODRace  Age  WritingPreference  \n",
       "0    White   41                  2  \n",
       "1    White   35                  1  \n",
       "2    Black   42                  1  \n",
       "3    White   31                  2  \n",
       "4    Black   21                  2  \n",
       "\n",
       "[5 rows x 98 columns]"
      ]
     },
     "execution_count": 35,
     "metadata": {},
     "output_type": "execute_result"
    }
   ],
   "source": [
    "df.head()"
   ]
  },
  {
   "cell_type": "markdown",
   "metadata": {
    "heading_collapsed": true,
    "id": "CS5-GZy0sl4s"
   },
   "source": [
    "# DATA Preprocessing\n",
    "- In this step we divide our data to X(Features) and y(Target) then ,\n",
    "- To train and evaluation purposes we create train and test sets,\n",
    "- Lastly, scale our data if features not in same scale. Why?"
   ]
  },
  {
   "cell_type": "code",
   "execution_count": 36,
   "metadata": {
    "hidden": true,
    "id": "fr2wgpvk1b7B"
   },
   "outputs": [],
   "source": [
    "X= df.drop(\"DODRace\",axis=1)\n",
    "X = pd.get_dummies(data=X,drop_first=True) #one-hot encoding\n",
    "y= df[\"DODRace\"]"
   ]
  },
  {
   "cell_type": "code",
   "execution_count": 37,
   "metadata": {},
   "outputs": [],
   "source": [
    "X_train, X_test, y_train, y_test = train_test_split(X, y, test_size=0.2, random_state=101, stratify =y)"
   ]
  },
  {
   "cell_type": "markdown",
   "metadata": {
    "heading_collapsed": true,
    "id": "zfi_NOw0s2fM"
   },
   "source": [
    "# Modelling\n",
    "- Fit the model with train dataset\n",
    "- Get predict from vanilla model on both train and test sets to examine if there is over/underfitting   \n",
    "- Apply GridseachCV for both hyperparemeter tuning and sanity test of our model.\n",
    "- Use hyperparameters that you find from gridsearch and make final prediction and evaluate the result according to chosen metric."
   ]
  },
  {
   "cell_type": "markdown",
   "metadata": {
    "heading_collapsed": true,
    "hidden": true,
    "id": "N1cviBuh1b7C"
   },
   "source": [
    "## 1. Logistic model"
   ]
  },
  {
   "cell_type": "markdown",
   "metadata": {
    "heading_collapsed": true,
    "hidden": true,
    "id": "0rSJ5hxp1b7C"
   },
   "source": [
    "### Vanilla Logistic Model"
   ]
  },
  {
   "cell_type": "code",
   "execution_count": 38,
   "metadata": {
    "id": "rbKDDck012BS"
   },
   "outputs": [],
   "source": [
    "from sklearn.linear_model import LogisticRegression"
   ]
  },
  {
   "cell_type": "code",
   "execution_count": 39,
   "metadata": {},
   "outputs": [
    {
     "data": {
      "text/plain": [
       "Pipeline(steps=[('scaler', MinMaxScaler()), ('logistic', LogisticRegression())])"
      ]
     },
     "execution_count": 39,
     "metadata": {},
     "output_type": "execute_result"
    }
   ],
   "source": [
    "operations = [(\"scaler\", MinMaxScaler()), (\"logistic\", LogisticRegression())]\n",
    "\n",
    "pipe_model = Pipeline(steps=operations)\n",
    "\n",
    "pipe_model.fit(X_train, y_train)"
   ]
  },
  {
   "cell_type": "code",
   "execution_count": 40,
   "metadata": {},
   "outputs": [],
   "source": [
    "from sklearn.model_selection import GridSearchCV\n",
    "from sklearn.metrics import accuracy_score, confusion_matrix, classification_report, ConfusionMatrixDisplay"
   ]
  },
  {
   "cell_type": "code",
   "execution_count": 41,
   "metadata": {},
   "outputs": [
    {
     "data": {
      "text/plain": [
       "array(['White', 'White', 'White', ..., 'White', 'White', 'White'],\n",
       "      dtype=object)"
      ]
     },
     "execution_count": 41,
     "metadata": {},
     "output_type": "execute_result"
    }
   ],
   "source": [
    "logistic_predictions = pipe_model.predict(X_test)\n",
    "logistic_predictions"
   ]
  },
  {
   "cell_type": "code",
   "execution_count": 42,
   "metadata": {},
   "outputs": [
    {
     "data": {
      "text/plain": [
       "<sklearn.metrics._plot.confusion_matrix.ConfusionMatrixDisplay at 0x28fd652aa60>"
      ]
     },
     "execution_count": 42,
     "metadata": {},
     "output_type": "execute_result"
    },
    {
     "data": {
      "image/png": "[encoded data removed]",
      "text/plain": [
       "<Figure size 432x288 with 2 Axes>"
      ]
     },
     "metadata": {
      "needs_background": "light"
     },
     "output_type": "display_data"
    }
   ],
   "source": [
    "ConfusionMatrixDisplay.from_estimator(pipe_model, X_test, y_test)"
   ]
  },
  {
   "cell_type": "code",
   "execution_count": 43,
   "metadata": {},
   "outputs": [],
   "source": [
    "def eval_metric(model, X_train, y_train, X_test, y_test):\n",
    "    y_train_pred = model.predict(X_train)\n",
    "    y_pred = model.predict(X_test)\n",
    "    \n",
    "    print(\"Test_Set\")\n",
    "    print(confusion_matrix(y_test, y_pred))\n",
    "    print(classification_report(y_test, y_pred))\n",
    "    print()\n",
    "    print(\"Train_Set\")\n",
    "    print(confusion_matrix(y_train, y_train_pred))\n",
    "    print(classification_report(y_train, y_train_pred))"
   ]
  },
  {
   "cell_type": "code",
   "execution_count": 44,
   "metadata": {},
   "outputs": [
    {
     "name": "stdout",
     "output_type": "stream",
     "text": [
      "Test_Set\n",
      "[[235   5  20]\n",
      " [  7  80  49]\n",
      " [ 10  15 733]]\n",
      "              precision    recall  f1-score   support\n",
      "\n",
      "       Black       0.93      0.90      0.92       260\n",
      "    Hispanic       0.80      0.59      0.68       136\n",
      "       White       0.91      0.97      0.94       758\n",
      "\n",
      "    accuracy                           0.91      1154\n",
      "   macro avg       0.88      0.82      0.85      1154\n",
      "weighted avg       0.90      0.91      0.90      1154\n",
      "\n",
      "\n",
      "Train_Set\n",
      "[[ 940   24   74]\n",
      " [  33  306  204]\n",
      " [  24   57 2953]]\n",
      "              precision    recall  f1-score   support\n",
      "\n",
      "       Black       0.94      0.91      0.92      1038\n",
      "    Hispanic       0.79      0.56      0.66       543\n",
      "       White       0.91      0.97      0.94      3034\n",
      "\n",
      "    accuracy                           0.91      4615\n",
      "   macro avg       0.88      0.81      0.84      4615\n",
      "weighted avg       0.91      0.91      0.90      4615\n",
      "\n"
     ]
    }
   ],
   "source": [
    "eval_metric(pipe_model, X_train, y_train, X_test, y_test)"
   ]
  },
  {
   "cell_type": "code",
   "execution_count": 45,
   "metadata": {},
   "outputs": [],
   "source": [
    "from sklearn.metrics import make_scorer\n",
    "from sklearn.metrics import accuracy_score, f1_score, recall_score, precision_score"
   ]
  },
  {
   "cell_type": "code",
   "execution_count": 46,
   "metadata": {},
   "outputs": [],
   "source": [
    "scoring = {\n",
    "    \"precision_Hispanic\": make_scorer(\n",
    "        precision_score, average=None, labels=[\"Hispanic\"]\n",
    "    ),\n",
    "    \"recall_Hispanic\": make_scorer(recall_score, average=None, labels=[\"Hispanic\"]),\n",
    "    \"f1_Hispanic\": make_scorer(f1_score, average=None, labels=[\"Hispanic\"]),\n",
    "}"
   ]
  },
  {
   "cell_type": "code",
   "execution_count": 47,
   "metadata": {
    "id": "PNZyqeNY15nP"
   },
   "outputs": [
    {
     "data": {
      "text/plain": [
       "test_precision_Hispanic     0.757655\n",
       "train_precision_Hispanic    0.791154\n",
       "test_recall_Hispanic        0.537407\n",
       "train_recall_Hispanic       0.564965\n",
       "test_f1_Hispanic            0.627061\n",
       "train_f1_Hispanic           0.659151\n",
       "dtype: float64"
      ]
     },
     "execution_count": 47,
     "metadata": {},
     "output_type": "execute_result"
    }
   ],
   "source": [
    "from sklearn.model_selection import cross_validate, cross_val_score\n",
    "from sklearn.metrics import accuracy_score, f1_score, recall_score, precision_score\n",
    "\n",
    "\n",
    "operations = [(\"scaler\", MinMaxScaler()), (\"logistic\", LogisticRegression())]\n",
    "\n",
    "model = Pipeline(steps=operations)\n",
    "\n",
    "scores = cross_validate(model, X_train, y_train, scoring = scoring, cv = 10, return_train_score=True)\n",
    "df_scores = pd.DataFrame(scores, index = range(1, 11))\n",
    "df_scores.mean()[2:]"
   ]
  },
  {
   "cell_type": "code",
   "execution_count": 48,
   "metadata": {},
   "outputs": [
    {
     "data": {
      "text/html": [
       "<div>\n",
       "<style scoped>\n",
       "    .dataframe tbody tr th:only-of-type {\n",
       "        vertical-align: middle;\n",
       "    }\n",
       "\n",
       "    .dataframe tbody tr th {\n",
       "        vertical-align: top;\n",
       "    }\n",
       "\n",
       "    .dataframe thead th {\n",
       "        text-align: right;\n",
       "    }\n",
       "</style>\n",
       "<table border=\"1\" class=\"dataframe\">\n",
       "  <thead>\n",
       "    <tr style=\"text-align: right;\">\n",
       "      <th></th>\n",
       "      <th>abdominalextensiondepthsitting</th>\n",
       "      <th>acromialheight</th>\n",
       "      <th>acromionradialelength</th>\n",
       "      <th>anklecircumference</th>\n",
       "      <th>axillaheight</th>\n",
       "      <th>balloffootcircumference</th>\n",
       "      <th>balloffootlength</th>\n",
       "      <th>biacromialbreadth</th>\n",
       "      <th>bicepscircumferenceflexed</th>\n",
       "      <th>bicristalbreadth</th>\n",
       "      <th>...</th>\n",
       "      <th>SubjectsBirthLocation_Virginia</th>\n",
       "      <th>SubjectsBirthLocation_Washington</th>\n",
       "      <th>SubjectsBirthLocation_West Virginia</th>\n",
       "      <th>SubjectsBirthLocation_Wisconsin</th>\n",
       "      <th>SubjectsBirthLocation_Wyoming</th>\n",
       "      <th>DODRace</th>\n",
       "      <th>pred</th>\n",
       "      <th>pred_proba_White</th>\n",
       "      <th>pred_proba_Black</th>\n",
       "      <th>pred_proba_Hispanic</th>\n",
       "    </tr>\n",
       "  </thead>\n",
       "  <tbody>\n",
       "    <tr>\n",
       "      <th>875</th>\n",
       "      <td>256</td>\n",
       "      <td>1341</td>\n",
       "      <td>307</td>\n",
       "      <td>215</td>\n",
       "      <td>1233</td>\n",
       "      <td>236</td>\n",
       "      <td>183</td>\n",
       "      <td>386</td>\n",
       "      <td>311</td>\n",
       "      <td>267</td>\n",
       "      <td>...</td>\n",
       "      <td>0</td>\n",
       "      <td>0</td>\n",
       "      <td>0</td>\n",
       "      <td>0</td>\n",
       "      <td>0</td>\n",
       "      <td>Hispanic</td>\n",
       "      <td>Hispanic</td>\n",
       "      <td>0.001888</td>\n",
       "      <td>0.888000</td>\n",
       "      <td>0.110113</td>\n",
       "    </tr>\n",
       "    <tr>\n",
       "      <th>4405</th>\n",
       "      <td>286</td>\n",
       "      <td>1275</td>\n",
       "      <td>289</td>\n",
       "      <td>238</td>\n",
       "      <td>1179</td>\n",
       "      <td>233</td>\n",
       "      <td>187</td>\n",
       "      <td>365</td>\n",
       "      <td>341</td>\n",
       "      <td>301</td>\n",
       "      <td>...</td>\n",
       "      <td>1</td>\n",
       "      <td>0</td>\n",
       "      <td>0</td>\n",
       "      <td>0</td>\n",
       "      <td>0</td>\n",
       "      <td>Black</td>\n",
       "      <td>Black</td>\n",
       "      <td>0.665207</td>\n",
       "      <td>0.159245</td>\n",
       "      <td>0.175549</td>\n",
       "    </tr>\n",
       "    <tr>\n",
       "      <th>4343</th>\n",
       "      <td>242</td>\n",
       "      <td>1280</td>\n",
       "      <td>314</td>\n",
       "      <td>212</td>\n",
       "      <td>1199</td>\n",
       "      <td>228</td>\n",
       "      <td>180</td>\n",
       "      <td>369</td>\n",
       "      <td>307</td>\n",
       "      <td>267</td>\n",
       "      <td>...</td>\n",
       "      <td>0</td>\n",
       "      <td>0</td>\n",
       "      <td>0</td>\n",
       "      <td>0</td>\n",
       "      <td>0</td>\n",
       "      <td>Black</td>\n",
       "      <td>Black</td>\n",
       "      <td>0.509277</td>\n",
       "      <td>0.153577</td>\n",
       "      <td>0.337146</td>\n",
       "    </tr>\n",
       "    <tr>\n",
       "      <th>3234</th>\n",
       "      <td>252</td>\n",
       "      <td>1460</td>\n",
       "      <td>347</td>\n",
       "      <td>232</td>\n",
       "      <td>1341</td>\n",
       "      <td>260</td>\n",
       "      <td>203</td>\n",
       "      <td>422</td>\n",
       "      <td>321</td>\n",
       "      <td>290</td>\n",
       "      <td>...</td>\n",
       "      <td>0</td>\n",
       "      <td>0</td>\n",
       "      <td>0</td>\n",
       "      <td>0</td>\n",
       "      <td>0</td>\n",
       "      <td>White</td>\n",
       "      <td>White</td>\n",
       "      <td>0.000532</td>\n",
       "      <td>0.040032</td>\n",
       "      <td>0.959436</td>\n",
       "    </tr>\n",
       "    <tr>\n",
       "      <th>3391</th>\n",
       "      <td>212</td>\n",
       "      <td>1387</td>\n",
       "      <td>311</td>\n",
       "      <td>200</td>\n",
       "      <td>1283</td>\n",
       "      <td>240</td>\n",
       "      <td>195</td>\n",
       "      <td>372</td>\n",
       "      <td>311</td>\n",
       "      <td>289</td>\n",
       "      <td>...</td>\n",
       "      <td>0</td>\n",
       "      <td>0</td>\n",
       "      <td>0</td>\n",
       "      <td>0</td>\n",
       "      <td>0</td>\n",
       "      <td>White</td>\n",
       "      <td>White</td>\n",
       "      <td>0.007907</td>\n",
       "      <td>0.021502</td>\n",
       "      <td>0.970592</td>\n",
       "    </tr>\n",
       "    <tr>\n",
       "      <th>4933</th>\n",
       "      <td>221</td>\n",
       "      <td>1290</td>\n",
       "      <td>315</td>\n",
       "      <td>215</td>\n",
       "      <td>1201</td>\n",
       "      <td>227</td>\n",
       "      <td>183</td>\n",
       "      <td>368</td>\n",
       "      <td>275</td>\n",
       "      <td>250</td>\n",
       "      <td>...</td>\n",
       "      <td>0</td>\n",
       "      <td>0</td>\n",
       "      <td>0</td>\n",
       "      <td>0</td>\n",
       "      <td>0</td>\n",
       "      <td>Black</td>\n",
       "      <td>Black</td>\n",
       "      <td>0.960199</td>\n",
       "      <td>0.019237</td>\n",
       "      <td>0.020564</td>\n",
       "    </tr>\n",
       "    <tr>\n",
       "      <th>1887</th>\n",
       "      <td>216</td>\n",
       "      <td>1501</td>\n",
       "      <td>339</td>\n",
       "      <td>241</td>\n",
       "      <td>1378</td>\n",
       "      <td>257</td>\n",
       "      <td>200</td>\n",
       "      <td>414</td>\n",
       "      <td>342</td>\n",
       "      <td>272</td>\n",
       "      <td>...</td>\n",
       "      <td>0</td>\n",
       "      <td>0</td>\n",
       "      <td>0</td>\n",
       "      <td>0</td>\n",
       "      <td>0</td>\n",
       "      <td>White</td>\n",
       "      <td>White</td>\n",
       "      <td>0.000908</td>\n",
       "      <td>0.002204</td>\n",
       "      <td>0.996888</td>\n",
       "    </tr>\n",
       "    <tr>\n",
       "      <th>1858</th>\n",
       "      <td>284</td>\n",
       "      <td>1453</td>\n",
       "      <td>352</td>\n",
       "      <td>224</td>\n",
       "      <td>1333</td>\n",
       "      <td>251</td>\n",
       "      <td>200</td>\n",
       "      <td>419</td>\n",
       "      <td>359</td>\n",
       "      <td>282</td>\n",
       "      <td>...</td>\n",
       "      <td>0</td>\n",
       "      <td>0</td>\n",
       "      <td>0</td>\n",
       "      <td>0</td>\n",
       "      <td>0</td>\n",
       "      <td>White</td>\n",
       "      <td>White</td>\n",
       "      <td>0.007202</td>\n",
       "      <td>0.068419</td>\n",
       "      <td>0.924379</td>\n",
       "    </tr>\n",
       "    <tr>\n",
       "      <th>67</th>\n",
       "      <td>313</td>\n",
       "      <td>1524</td>\n",
       "      <td>342</td>\n",
       "      <td>250</td>\n",
       "      <td>1404</td>\n",
       "      <td>276</td>\n",
       "      <td>207</td>\n",
       "      <td>447</td>\n",
       "      <td>381</td>\n",
       "      <td>300</td>\n",
       "      <td>...</td>\n",
       "      <td>0</td>\n",
       "      <td>0</td>\n",
       "      <td>0</td>\n",
       "      <td>0</td>\n",
       "      <td>0</td>\n",
       "      <td>White</td>\n",
       "      <td>White</td>\n",
       "      <td>0.000347</td>\n",
       "      <td>0.004595</td>\n",
       "      <td>0.995058</td>\n",
       "    </tr>\n",
       "    <tr>\n",
       "      <th>2328</th>\n",
       "      <td>260</td>\n",
       "      <td>1408</td>\n",
       "      <td>343</td>\n",
       "      <td>236</td>\n",
       "      <td>1311</td>\n",
       "      <td>264</td>\n",
       "      <td>211</td>\n",
       "      <td>419</td>\n",
       "      <td>444</td>\n",
       "      <td>268</td>\n",
       "      <td>...</td>\n",
       "      <td>0</td>\n",
       "      <td>0</td>\n",
       "      <td>0</td>\n",
       "      <td>0</td>\n",
       "      <td>0</td>\n",
       "      <td>Black</td>\n",
       "      <td>Black</td>\n",
       "      <td>0.989651</td>\n",
       "      <td>0.002250</td>\n",
       "      <td>0.008098</td>\n",
       "    </tr>\n",
       "  </tbody>\n",
       "</table>\n",
       "<p>10 rows × 157 columns</p>\n",
       "</div>"
      ],
      "text/plain": [
       "      abdominalextensiondepthsitting  acromialheight  acromionradialelength  \\\n",
       "875                              256            1341                    307   \n",
       "4405                             286            1275                    289   \n",
       "4343                             242            1280                    314   \n",
       "3234                             252            1460                    347   \n",
       "3391                             212            1387                    311   \n",
       "4933                             221            1290                    315   \n",
       "1887                             216            1501                    339   \n",
       "1858                             284            1453                    352   \n",
       "67                               313            1524                    342   \n",
       "2328                             260            1408                    343   \n",
       "\n",
       "      anklecircumference  axillaheight  balloffootcircumference  \\\n",
       "875                  215          1233                      236   \n",
       "4405                 238          1179                      233   \n",
       "4343                 212          1199                      228   \n",
       "3234                 232          1341                      260   \n",
       "3391                 200          1283                      240   \n",
       "4933                 215          1201                      227   \n",
       "1887                 241          1378                      257   \n",
       "1858                 224          1333                      251   \n",
       "67                   250          1404                      276   \n",
       "2328                 236          1311                      264   \n",
       "\n",
       "      balloffootlength  biacromialbreadth  bicepscircumferenceflexed  \\\n",
       "875                183                386                        311   \n",
       "4405               187                365                        341   \n",
       "4343               180                369                        307   \n",
       "3234               203                422                        321   \n",
       "3391               195                372                        311   \n",
       "4933               183                368                        275   \n",
       "1887               200                414                        342   \n",
       "1858               200                419                        359   \n",
       "67                 207                447                        381   \n",
       "2328               211                419                        444   \n",
       "\n",
       "      bicristalbreadth  ...  SubjectsBirthLocation_Virginia  \\\n",
       "875                267  ...                               0   \n",
       "4405               301  ...                               1   \n",
       "4343               267  ...                               0   \n",
       "3234               290  ...                               0   \n",
       "3391               289  ...                               0   \n",
       "4933               250  ...                               0   \n",
       "1887               272  ...                               0   \n",
       "1858               282  ...                               0   \n",
       "67                 300  ...                               0   \n",
       "2328               268  ...                               0   \n",
       "\n",
       "      SubjectsBirthLocation_Washington  SubjectsBirthLocation_West Virginia  \\\n",
       "875                                  0                                    0   \n",
       "4405                                 0                                    0   \n",
       "4343                                 0                                    0   \n",
       "3234                                 0                                    0   \n",
       "3391                                 0                                    0   \n",
       "4933                                 0                                    0   \n",
       "1887                                 0                                    0   \n",
       "1858                                 0                                    0   \n",
       "67                                   0                                    0   \n",
       "2328                                 0                                    0   \n",
       "\n",
       "      SubjectsBirthLocation_Wisconsin  SubjectsBirthLocation_Wyoming  \\\n",
       "875                                 0                              0   \n",
       "4405                                0                              0   \n",
       "4343                                0                              0   \n",
       "3234                                0                              0   \n",
       "3391                                0                              0   \n",
       "4933                                0                              0   \n",
       "1887                                0                              0   \n",
       "1858                                0                              0   \n",
       "67                                  0                              0   \n",
       "2328                                0                              0   \n",
       "\n",
       "       DODRace      pred  pred_proba_White  pred_proba_Black  \\\n",
       "875   Hispanic  Hispanic          0.001888          0.888000   \n",
       "4405     Black     Black          0.665207          0.159245   \n",
       "4343     Black     Black          0.509277          0.153577   \n",
       "3234     White     White          0.000532          0.040032   \n",
       "3391     White     White          0.007907          0.021502   \n",
       "4933     Black     Black          0.960199          0.019237   \n",
       "1887     White     White          0.000908          0.002204   \n",
       "1858     White     White          0.007202          0.068419   \n",
       "67       White     White          0.000347          0.004595   \n",
       "2328     Black     Black          0.989651          0.002250   \n",
       "\n",
       "      pred_proba_Hispanic  \n",
       "875              0.110113  \n",
       "4405             0.175549  \n",
       "4343             0.337146  \n",
       "3234             0.959436  \n",
       "3391             0.970592  \n",
       "4933             0.020564  \n",
       "1887             0.996888  \n",
       "1858             0.924379  \n",
       "67               0.995058  \n",
       "2328             0.008098  \n",
       "\n",
       "[10 rows x 157 columns]"
      ]
     },
     "execution_count": 48,
     "metadata": {},
     "output_type": "execute_result"
    }
   ],
   "source": [
    "y_pred=pipe_model.predict(X_test)\n",
    "y_pred_proba = pipe_model.predict_proba(X_test)\n",
    "\n",
    "test_data = pd.concat([X_test, y_test], axis=1)\n",
    "\n",
    "test_data[\"pred\"] = y_pred\n",
    "test_data[\"pred_proba_White\"] = y_pred_proba[:,0]\n",
    "test_data[\"pred_proba_Black\"] = y_pred_proba[:,1]\n",
    "test_data[\"pred_proba_Hispanic\"] = y_pred_proba[:,2]\n",
    "test_data.sample(10)"
   ]
  },
  {
   "cell_type": "markdown",
   "metadata": {
    "heading_collapsed": true,
    "hidden": true,
    "id": "lPelWxsU1b7C"
   },
   "source": [
    "### Logistic Model GridsearchCV"
   ]
  },
  {
   "cell_type": "code",
   "execution_count": 49,
   "metadata": {},
   "outputs": [],
   "source": [
    "operations = [(\"scaler\", MinMaxScaler()), (\"logistic\", LogisticRegression(max_iter=5000))]\n",
    "\n",
    "model = Pipeline(steps=operations)"
   ]
  },
  {
   "cell_type": "code",
   "execution_count": 50,
   "metadata": {},
   "outputs": [],
   "source": [
    "recall_Hispanic= make_scorer(recall_score, average=None, labels=[\"Hispanic\"])"
   ]
  },
  {
   "cell_type": "code",
   "execution_count": 51,
   "metadata": {},
   "outputs": [],
   "source": [
    "#model.get_params()"
   ]
  },
  {
   "cell_type": "code",
   "execution_count": 52,
   "metadata": {},
   "outputs": [],
   "source": [
    "param_grid = { 'logistic__penalty': [\"l1\",\"l2\"],\n",
    "                'logistic__C': [0.01, 0.1, 1, 5, 16, 19, 22, 25]\n",
    "             }"
   ]
  },
  {
   "cell_type": "code",
   "execution_count": 53,
   "metadata": {},
   "outputs": [],
   "source": [
    "grid_model = GridSearchCV(model, param_grid, verbose=3, scoring=recall_Hispanic, refit=True,n_jobs=-1, return_train_score=True)"
   ]
  },
  {
   "cell_type": "code",
   "execution_count": 54,
   "metadata": {},
   "outputs": [
    {
     "name": "stdout",
     "output_type": "stream",
     "text": [
      "Fitting 5 folds for each of 16 candidates, totalling 80 fits\n"
     ]
    },
    {
     "data": {
      "text/plain": [
       "GridSearchCV(estimator=Pipeline(steps=[('scaler', MinMaxScaler()),\n",
       "                                       ('logistic',\n",
       "                                        LogisticRegression(max_iter=5000))]),\n",
       "             n_jobs=-1,\n",
       "             param_grid={'logistic__C': [0.01, 0.1, 1, 5, 16, 19, 22, 25],\n",
       "                         'logistic__penalty': ['l1', 'l2']},\n",
       "             return_train_score=True,\n",
       "             scoring=make_scorer(recall_score, average=None, labels=['Hispanic']),\n",
       "             verbose=3)"
      ]
     },
     "execution_count": 54,
     "metadata": {},
     "output_type": "execute_result"
    }
   ],
   "source": [
    "grid_model.fit(X_train,y_train)"
   ]
  },
  {
   "cell_type": "code",
   "execution_count": 55,
   "metadata": {},
   "outputs": [
    {
     "data": {
      "text/plain": [
       "{'logistic__C': 16, 'logistic__penalty': 'l2'}"
      ]
     },
     "execution_count": 55,
     "metadata": {},
     "output_type": "execute_result"
    }
   ],
   "source": [
    "grid_model.best_params_"
   ]
  },
  {
   "cell_type": "code",
   "execution_count": 56,
   "metadata": {},
   "outputs": [
    {
     "data": {
      "text/plain": [
       "Pipeline(steps=[('scaler', MinMaxScaler()),\n",
       "                ('logistic', LogisticRegression(C=16, max_iter=5000))])"
      ]
     },
     "execution_count": 56,
     "metadata": {},
     "output_type": "execute_result"
    }
   ],
   "source": [
    "grid_model.best_estimator_"
   ]
  },
  {
   "cell_type": "code",
   "execution_count": 57,
   "metadata": {},
   "outputs": [
    {
     "data": {
      "text/plain": [
       "array(['White', 'White', 'White', ..., 'White', 'White', 'White'],\n",
       "      dtype=object)"
      ]
     },
     "execution_count": 57,
     "metadata": {},
     "output_type": "execute_result"
    }
   ],
   "source": [
    "y_pred = grid_model.predict(X_test)\n",
    "y_pred"
   ]
  },
  {
   "cell_type": "code",
   "execution_count": 58,
   "metadata": {},
   "outputs": [
    {
     "data": {
      "text/plain": [
       "mean_test_score     0.581974\n",
       "mean_train_score    0.621542\n",
       "Name: 9, dtype: object"
      ]
     },
     "execution_count": 58,
     "metadata": {},
     "output_type": "execute_result"
    }
   ],
   "source": [
    "pd.DataFrame(grid_model.cv_results_).loc[grid_model.best_index_, [\"mean_test_score\", \"mean_train_score\"]]"
   ]
  },
  {
   "cell_type": "code",
   "execution_count": 59,
   "metadata": {},
   "outputs": [
    {
     "data": {
      "image/png": "[encoded data removed]",
      "text/plain": [
       "<Figure size 432x288 with 2 Axes>"
      ]
     },
     "metadata": {
      "needs_background": "light"
     },
     "output_type": "display_data"
    }
   ],
   "source": [
    "ConfusionMatrixDisplay.from_estimator(grid_model, X_test, y_test);"
   ]
  },
  {
   "cell_type": "code",
   "execution_count": 60,
   "metadata": {},
   "outputs": [
    {
     "name": "stdout",
     "output_type": "stream",
     "text": [
      "Test_Set\n",
      "[[235   5  20]\n",
      " [  7  85  44]\n",
      " [ 12  19 727]]\n",
      "              precision    recall  f1-score   support\n",
      "\n",
      "       Black       0.93      0.90      0.91       260\n",
      "    Hispanic       0.78      0.62      0.69       136\n",
      "       White       0.92      0.96      0.94       758\n",
      "\n",
      "    accuracy                           0.91      1154\n",
      "   macro avg       0.87      0.83      0.85      1154\n",
      "weighted avg       0.90      0.91      0.90      1154\n",
      "\n",
      "\n",
      "Train_Set\n",
      "[[ 965   22   51]\n",
      " [  31  332  180]\n",
      " [  24   67 2943]]\n",
      "              precision    recall  f1-score   support\n",
      "\n",
      "       Black       0.95      0.93      0.94      1038\n",
      "    Hispanic       0.79      0.61      0.69       543\n",
      "       White       0.93      0.97      0.95      3034\n",
      "\n",
      "    accuracy                           0.92      4615\n",
      "   macro avg       0.89      0.84      0.86      4615\n",
      "weighted avg       0.92      0.92      0.92      4615\n",
      "\n"
     ]
    }
   ],
   "source": [
    "eval_metric(grid_model, X_train, y_train, X_test, y_test)"
   ]
  },
  {
   "cell_type": "code",
   "execution_count": 61,
   "metadata": {},
   "outputs": [],
   "source": [
    "from sklearn.metrics import RocCurveDisplay, PrecisionRecallDisplay"
   ]
  },
  {
   "cell_type": "code",
   "execution_count": 62,
   "metadata": {},
   "outputs": [
    {
     "data": {
      "image/png": "[encoded data removed]",
      "text/plain": [
       "<Figure size 432x288 with 1 Axes>"
      ]
     },
     "metadata": {
      "needs_background": "light"
     },
     "output_type": "display_data"
    }
   ],
   "source": [
    "from scikitplot.metrics import plot_roc, precision_recall_curve\n",
    "from scikitplot.metrics import plot_precision_recall\n",
    "\n",
    "\n",
    "operations = [(\"scaler\", StandardScaler()), (\"logistic\", LogisticRegression(C=16,penalty='l2', max_iter=5000))]\n",
    "\n",
    "model = Pipeline(steps=operations)\n",
    "\n",
    "model.fit(X_train, y_train)\n",
    "\n",
    "y_pred_proba = model.predict_proba(X_test)\n",
    "    \n",
    "plot_roc(y_test, y_pred_proba)\n",
    "plt.show();"
   ]
  },
  {
   "cell_type": "code",
   "execution_count": 63,
   "metadata": {},
   "outputs": [
    {
     "data": {
      "text/plain": [
       "0.9274890211487347"
      ]
     },
     "execution_count": 63,
     "metadata": {},
     "output_type": "execute_result"
    }
   ],
   "source": [
    "from sklearn.metrics import average_precision_score, roc_auc_score\n",
    "\n",
    "y_test_dummies = pd.get_dummies(y_test).values\n",
    "\n",
    "roc_auc_score(y_test_dummies[:, 1], y_pred_proba[:, 1])  # roc_auc score  for setosa"
   ]
  },
  {
   "cell_type": "markdown",
   "metadata": {
    "heading_collapsed": true,
    "hidden": true,
    "id": "GM0PL5eZ1b7E"
   },
   "source": [
    "## 2. SVC"
   ]
  },
  {
   "cell_type": "markdown",
   "metadata": {
    "heading_collapsed": true,
    "hidden": true,
    "id": "P3j_Xk1L1b7E"
   },
   "source": [
    "### Vanilla SVC model"
   ]
  },
  {
   "cell_type": "code",
   "execution_count": 64,
   "metadata": {
    "id": "pro8T6CM19vX"
   },
   "outputs": [],
   "source": [
    "from sklearn.svm import SVC\n",
    "from sklearn.metrics import classification_report,confusion_matrix"
   ]
  },
  {
   "cell_type": "code",
   "execution_count": 65,
   "metadata": {},
   "outputs": [],
   "source": [
    "operations = [(\"scaler\", MinMaxScaler()), (\"SVC\", SVC())]\n",
    "pipe_model = Pipeline(steps=operations)"
   ]
  },
  {
   "cell_type": "code",
   "execution_count": 66,
   "metadata": {},
   "outputs": [
    {
     "name": "stdout",
     "output_type": "stream",
     "text": [
      "Test_Set\n",
      "[[225   4  31]\n",
      " [  7  56  73]\n",
      " [  6   5 747]]\n",
      "              precision    recall  f1-score   support\n",
      "\n",
      "       Black       0.95      0.87      0.90       260\n",
      "    Hispanic       0.86      0.41      0.56       136\n",
      "       White       0.88      0.99      0.93       758\n",
      "\n",
      "    accuracy                           0.89      1154\n",
      "   macro avg       0.89      0.75      0.80      1154\n",
      "weighted avg       0.89      0.89      0.88      1154\n",
      "\n",
      "\n",
      "Train_Set\n",
      "[[ 928   15   95]\n",
      " [  38  208  297]\n",
      " [  12   19 3003]]\n",
      "              precision    recall  f1-score   support\n",
      "\n",
      "       Black       0.95      0.89      0.92      1038\n",
      "    Hispanic       0.86      0.38      0.53       543\n",
      "       White       0.88      0.99      0.93      3034\n",
      "\n",
      "    accuracy                           0.90      4615\n",
      "   macro avg       0.90      0.76      0.79      4615\n",
      "weighted avg       0.90      0.90      0.88      4615\n",
      "\n"
     ]
    }
   ],
   "source": [
    "pipe_model.fit(X_train, y_train)\n",
    "eval_metric(pipe_model, X_train, y_train, X_test, y_test)"
   ]
  },
  {
   "cell_type": "code",
   "execution_count": 67,
   "metadata": {},
   "outputs": [
    {
     "data": {
      "text/plain": [
       "test_precision_Hispanic     0.829728\n",
       "train_precision_Hispanic    0.861187\n",
       "test_recall_Hispanic        0.342222\n",
       "train_recall_Hispanic       0.367297\n",
       "test_f1_Hispanic            0.481024\n",
       "train_f1_Hispanic           0.514892\n",
       "dtype: float64"
      ]
     },
     "execution_count": 67,
     "metadata": {},
     "output_type": "execute_result"
    }
   ],
   "source": [
    "from sklearn.model_selection import cross_validate, cross_val_score\n",
    "from sklearn.metrics import accuracy_score, f1_score, recall_score, precision_score\n",
    "\n",
    "\n",
    "operations = [(\"scaler\", MinMaxScaler()), (\"SVC\", SVC())]\n",
    "\n",
    "model = Pipeline(steps=operations)\n",
    "\n",
    "scores = cross_validate(model, X_train, y_train, scoring = scoring, cv = 10, return_train_score=True)\n",
    "df_scores = pd.DataFrame(scores, index = range(1, 11))\n",
    "df_scores.mean()[2:]"
   ]
  },
  {
   "cell_type": "markdown",
   "metadata": {
    "heading_collapsed": true,
    "hidden": true,
    "id": "28y9nWxG1b7E"
   },
   "source": [
    "###  SVC Model GridsearchCV"
   ]
  },
  {
   "cell_type": "code",
   "execution_count": 68,
   "metadata": {
    "id": "4dFocgCo1-0Z"
   },
   "outputs": [],
   "source": [
    "operations = [(\"scaler\", MinMaxScaler()), (\"SVC\", SVC(max_iter=5000))]\n",
    "\n",
    "model = Pipeline(steps=operations)"
   ]
  },
  {
   "cell_type": "code",
   "execution_count": 69,
   "metadata": {},
   "outputs": [],
   "source": [
    "recall_Hispanic =  make_scorer( recall_score, average=None, labels=[\"Hispanic\"] )"
   ]
  },
  {
   "cell_type": "code",
   "execution_count": 70,
   "metadata": {},
   "outputs": [],
   "source": [
    "param_grid = {'SVC__gamma': [\"scale\", \"auto\", 1,0.1,0.01],\n",
    "              'SVC__kernel': ['rbf'],\n",
    "              'SVC__class_weight': [\"balanced\", None]}"
   ]
  },
  {
   "cell_type": "code",
   "execution_count": 71,
   "metadata": {},
   "outputs": [],
   "source": [
    "grid_model = GridSearchCV(model, param_grid, verbose=3, scoring=recall_Hispanic, refit=True,n_jobs=-1, return_train_score=True)"
   ]
  },
  {
   "cell_type": "code",
   "execution_count": 72,
   "metadata": {},
   "outputs": [
    {
     "name": "stdout",
     "output_type": "stream",
     "text": [
      "Fitting 5 folds for each of 10 candidates, totalling 50 fits\n"
     ]
    },
    {
     "data": {
      "text/plain": [
       "GridSearchCV(estimator=Pipeline(steps=[('scaler', MinMaxScaler()),\n",
       "                                       ('SVC', SVC(max_iter=5000))]),\n",
       "             n_jobs=-1,\n",
       "             param_grid={'SVC__class_weight': ['balanced', None],\n",
       "                         'SVC__gamma': ['scale', 'auto', 1, 0.1, 0.01],\n",
       "                         'SVC__kernel': ['rbf']},\n",
       "             return_train_score=True,\n",
       "             scoring=make_scorer(recall_score, average=None, labels=['Hispanic']),\n",
       "             verbose=3)"
      ]
     },
     "execution_count": 72,
     "metadata": {},
     "output_type": "execute_result"
    }
   ],
   "source": [
    "grid_model.fit(X_train,y_train)"
   ]
  },
  {
   "cell_type": "code",
   "execution_count": 73,
   "metadata": {},
   "outputs": [
    {
     "data": {
      "text/plain": [
       "{'SVC__class_weight': 'balanced', 'SVC__gamma': 'scale', 'SVC__kernel': 'rbf'}"
      ]
     },
     "execution_count": 73,
     "metadata": {},
     "output_type": "execute_result"
    }
   ],
   "source": [
    "grid_model.best_params_"
   ]
  },
  {
   "cell_type": "code",
   "execution_count": 74,
   "metadata": {},
   "outputs": [
    {
     "data": {
      "text/plain": [
       "Pipeline(steps=[('scaler', MinMaxScaler()),\n",
       "                ('SVC', SVC(class_weight='balanced', max_iter=5000))])"
      ]
     },
     "execution_count": 74,
     "metadata": {},
     "output_type": "execute_result"
    }
   ],
   "source": [
    "grid_model.best_estimator_"
   ]
  },
  {
   "cell_type": "code",
   "execution_count": 75,
   "metadata": {},
   "outputs": [
    {
     "data": {
      "text/plain": [
       "array(['White', 'White', 'White', ..., 'White', 'White', 'White'],\n",
       "      dtype=object)"
      ]
     },
     "execution_count": 75,
     "metadata": {},
     "output_type": "execute_result"
    }
   ],
   "source": [
    "y_pred = grid_model.predict(X_test)\n",
    "y_pred"
   ]
  },
  {
   "cell_type": "code",
   "execution_count": 76,
   "metadata": {},
   "outputs": [
    {
     "data": {
      "text/plain": [
       "mean_test_score     0.766004\n",
       "mean_train_score    0.836545\n",
       "Name: 0, dtype: object"
      ]
     },
     "execution_count": 76,
     "metadata": {},
     "output_type": "execute_result"
    }
   ],
   "source": [
    "pd.DataFrame(grid_model.cv_results_).loc[grid_model.best_index_, [\"mean_test_score\", \"mean_train_score\"]]"
   ]
  },
  {
   "cell_type": "code",
   "execution_count": 77,
   "metadata": {},
   "outputs": [
    {
     "data": {
      "text/plain": [
       "<sklearn.metrics._plot.confusion_matrix.ConfusionMatrixDisplay at 0x28fd7163e20>"
      ]
     },
     "execution_count": 77,
     "metadata": {},
     "output_type": "execute_result"
    },
    {
     "data": {
      "image/png": "[encoded data removed]",
      "text/plain": [
       "<Figure size 432x288 with 2 Axes>"
      ]
     },
     "metadata": {
      "needs_background": "light"
     },
     "output_type": "display_data"
    }
   ],
   "source": [
    "ConfusionMatrixDisplay.from_estimator(grid_model, X_test, y_test)"
   ]
  },
  {
   "cell_type": "code",
   "execution_count": 78,
   "metadata": {},
   "outputs": [
    {
     "name": "stdout",
     "output_type": "stream",
     "text": [
      "Test_Set\n",
      "[[232  15  13]\n",
      " [  4 111  21]\n",
      " [ 17 101 640]]\n",
      "              precision    recall  f1-score   support\n",
      "\n",
      "       Black       0.92      0.89      0.90       260\n",
      "    Hispanic       0.49      0.82      0.61       136\n",
      "       White       0.95      0.84      0.89       758\n",
      "\n",
      "    accuracy                           0.85      1154\n",
      "   macro avg       0.79      0.85      0.80      1154\n",
      "weighted avg       0.89      0.85      0.86      1154\n",
      "\n",
      "\n",
      "Train_Set\n",
      "[[ 950   52   36]\n",
      " [  22  449   72]\n",
      " [  52  393 2589]]\n",
      "              precision    recall  f1-score   support\n",
      "\n",
      "       Black       0.93      0.92      0.92      1038\n",
      "    Hispanic       0.50      0.83      0.62       543\n",
      "       White       0.96      0.85      0.90      3034\n",
      "\n",
      "    accuracy                           0.86      4615\n",
      "   macro avg       0.80      0.87      0.82      4615\n",
      "weighted avg       0.90      0.86      0.87      4615\n",
      "\n"
     ]
    }
   ],
   "source": [
    "eval_metric(grid_model, X_train, y_train, X_test, y_test)"
   ]
  },
  {
   "cell_type": "code",
   "execution_count": 79,
   "metadata": {},
   "outputs": [
    {
     "data": {
      "image/png": "[encoded data removed]",
      "text/plain": [
       "<Figure size 432x288 with 1 Axes>"
      ]
     },
     "metadata": {
      "needs_background": "light"
     },
     "output_type": "display_data"
    }
   ],
   "source": [
    "from scikitplot.metrics import plot_roc, precision_recall_curve\n",
    "from scikitplot.metrics import plot_precision_recall\n",
    "\n",
    "\n",
    "operations = [(\"scaler\", MinMaxScaler()), (\"SVC\", SVC(class_weight='balanced', gamma='scale', kernel='rbf', probability=True, max_iter=5000))]\n",
    "\n",
    "model = Pipeline(steps=operations)\n",
    "\n",
    "model.fit(X_train, y_train)\n",
    "\n",
    "y_pred_proba = model.predict_proba(X_test)\n",
    "    \n",
    "plot_roc(y_test, y_pred_proba)\n",
    "plt.show();"
   ]
  },
  {
   "cell_type": "code",
   "execution_count": 80,
   "metadata": {},
   "outputs": [
    {
     "data": {
      "text/plain": [
       "0.9162140298162487"
      ]
     },
     "execution_count": 80,
     "metadata": {},
     "output_type": "execute_result"
    }
   ],
   "source": [
    "from sklearn.metrics import average_precision_score, roc_auc_score\n",
    "\n",
    "y_test_dummies = pd.get_dummies(y_test).values\n",
    "\n",
    "roc_auc_score(y_test_dummies[:, 1], y_pred_proba[:, 1])  # roc_auc score  for setosa"
   ]
  },
  {
   "cell_type": "markdown",
   "metadata": {
    "heading_collapsed": true,
    "hidden": true,
    "id": "bDX_iLIls74C"
   },
   "source": [
    "## 3. RF"
   ]
  },
  {
   "cell_type": "markdown",
   "metadata": {
    "heading_collapsed": true,
    "hidden": true,
    "id": "qaTzrT6P1b7G"
   },
   "source": [
    "### Vanilla RF Model"
   ]
  },
  {
   "cell_type": "code",
   "execution_count": 81,
   "metadata": {},
   "outputs": [],
   "source": [
    "from sklearn.ensemble import RandomForestClassifier"
   ]
  },
  {
   "cell_type": "code",
   "execution_count": 82,
   "metadata": {},
   "outputs": [],
   "source": [
    "from sklearn.preprocessing import OrdinalEncoder\n",
    "from sklearn.compose import make_column_transformer\n",
    "\n",
    "cat = X_train.select_dtypes(\"object\").columns\n",
    "\n",
    "ord_enc = OrdinalEncoder(handle_unknown=\"use_encoded_value\", unknown_value=-1)\n",
    "\n",
    "column_trans = make_column_transformer((ord_enc, cat), remainder=\"passthrough\")"
   ]
  },
  {
   "cell_type": "code",
   "execution_count": 83,
   "metadata": {},
   "outputs": [],
   "source": [
    "operations = [(\"OrdinalEncoder\", column_trans),(\"scaler\", MinMaxScaler()), (\"RF_model\", RandomForestClassifier())]\n",
    "pipe_model = Pipeline(steps=operations)"
   ]
  },
  {
   "cell_type": "code",
   "execution_count": 84,
   "metadata": {},
   "outputs": [
    {
     "name": "stdout",
     "output_type": "stream",
     "text": [
      "Test_Set\n",
      "[[203   4  53]\n",
      " [ 13  33  90]\n",
      " [ 13   3 742]]\n",
      "              precision    recall  f1-score   support\n",
      "\n",
      "       Black       0.89      0.78      0.83       260\n",
      "    Hispanic       0.82      0.24      0.38       136\n",
      "       White       0.84      0.98      0.90       758\n",
      "\n",
      "    accuracy                           0.85      1154\n",
      "   macro avg       0.85      0.67      0.70      1154\n",
      "weighted avg       0.85      0.85      0.82      1154\n",
      "\n",
      "\n",
      "Train_Set\n",
      "[[1038    0    0]\n",
      " [   0  543    0]\n",
      " [   0    0 3034]]\n",
      "              precision    recall  f1-score   support\n",
      "\n",
      "       Black       1.00      1.00      1.00      1038\n",
      "    Hispanic       1.00      1.00      1.00       543\n",
      "       White       1.00      1.00      1.00      3034\n",
      "\n",
      "    accuracy                           1.00      4615\n",
      "   macro avg       1.00      1.00      1.00      4615\n",
      "weighted avg       1.00      1.00      1.00      4615\n",
      "\n"
     ]
    }
   ],
   "source": [
    "pipe_model.fit(X_train, y_train)\n",
    "eval_metric(pipe_model, X_train, y_train, X_test, y_test)"
   ]
  },
  {
   "cell_type": "code",
   "execution_count": 85,
   "metadata": {},
   "outputs": [
    {
     "data": {
      "text/plain": [
       "test_precision_Hispanic     0.784593\n",
       "train_precision_Hispanic    1.000000\n",
       "test_recall_Hispanic        0.180269\n",
       "train_recall_Hispanic       1.000000\n",
       "test_f1_Hispanic            0.290809\n",
       "train_f1_Hispanic           1.000000\n",
       "dtype: float64"
      ]
     },
     "execution_count": 85,
     "metadata": {},
     "output_type": "execute_result"
    }
   ],
   "source": [
    "scores = cross_validate(pipe_model, X_train, y_train, scoring = scoring, cv = 10, return_train_score=True)\n",
    "df_scores = pd.DataFrame(scores, index = range(1, 11))\n",
    "df_scores.mean()[2:]"
   ]
  },
  {
   "cell_type": "markdown",
   "metadata": {
    "heading_collapsed": true,
    "hidden": true,
    "id": "MkLAZ_M41b7G"
   },
   "source": [
    "### RF Model GridsearchCV"
   ]
  },
  {
   "cell_type": "code",
   "execution_count": 86,
   "metadata": {},
   "outputs": [],
   "source": [
    "recall_Hispanic =  make_scorer( recall_score, average=None, labels=[\"Hispanic\"] )"
   ]
  },
  {
   "cell_type": "code",
   "execution_count": 87,
   "metadata": {},
   "outputs": [],
   "source": [
    "param_grid = {'RF_model__n_estimators':[100,200,300],\n",
    "             'RF_model__criterion': [\"gini\",\"entropy\"],\n",
    "             'RF_model__max_depth':[10,12,14,16]}"
   ]
  },
  {
   "cell_type": "code",
   "execution_count": 88,
   "metadata": {},
   "outputs": [],
   "source": [
    "grid_model = GridSearchCV(pipe_model, param_grid, verbose=3, scoring=recall_Hispanic, refit=True,n_jobs=-1, return_train_score=True)"
   ]
  },
  {
   "cell_type": "code",
   "execution_count": 89,
   "metadata": {},
   "outputs": [
    {
     "name": "stdout",
     "output_type": "stream",
     "text": [
      "Fitting 5 folds for each of 24 candidates, totalling 120 fits\n"
     ]
    },
    {
     "data": {
      "text/plain": [
       "GridSearchCV(estimator=Pipeline(steps=[('OrdinalEncoder',\n",
       "                                        ColumnTransformer(remainder='passthrough',\n",
       "                                                          transformers=[('ordinalencoder',\n",
       "                                                                         OrdinalEncoder(handle_unknown='use_encoded_value',\n",
       "                                                                                        unknown_value=-1),\n",
       "                                                                         Index([], dtype='object'))])),\n",
       "                                       ('scaler', MinMaxScaler()),\n",
       "                                       ('RF_model', RandomForestClassifier())]),\n",
       "             n_jobs=-1,\n",
       "             param_grid={'RF_model__criterion': ['gini', 'entropy'],\n",
       "                         'RF_model__max_depth': [10, 12, 14, 16],\n",
       "                         'RF_model__n_estimators': [100, 200, 300]},\n",
       "             return_train_score=True,\n",
       "             scoring=make_scorer(recall_score, average=None, labels=['Hispanic']),\n",
       "             verbose=3)"
      ]
     },
     "execution_count": 89,
     "metadata": {},
     "output_type": "execute_result"
    }
   ],
   "source": [
    "grid_model.fit(X_train,y_train)"
   ]
  },
  {
   "cell_type": "code",
   "execution_count": 90,
   "metadata": {},
   "outputs": [
    {
     "data": {
      "text/plain": [
       "{'RF_model__criterion': 'gini',\n",
       " 'RF_model__max_depth': 16,\n",
       " 'RF_model__n_estimators': 300}"
      ]
     },
     "execution_count": 90,
     "metadata": {},
     "output_type": "execute_result"
    }
   ],
   "source": [
    "grid_model.best_params_"
   ]
  },
  {
   "cell_type": "code",
   "execution_count": 91,
   "metadata": {},
   "outputs": [
    {
     "data": {
      "text/plain": [
       "Pipeline(steps=[('OrdinalEncoder',\n",
       "                 ColumnTransformer(remainder='passthrough',\n",
       "                                   transformers=[('ordinalencoder',\n",
       "                                                  OrdinalEncoder(handle_unknown='use_encoded_value',\n",
       "                                                                 unknown_value=-1),\n",
       "                                                  Index([], dtype='object'))])),\n",
       "                ('scaler', MinMaxScaler()),\n",
       "                ('RF_model',\n",
       "                 RandomForestClassifier(max_depth=16, n_estimators=300))])"
      ]
     },
     "execution_count": 91,
     "metadata": {},
     "output_type": "execute_result"
    }
   ],
   "source": [
    "grid_model.best_estimator_"
   ]
  },
  {
   "cell_type": "code",
   "execution_count": 92,
   "metadata": {},
   "outputs": [
    {
     "data": {
      "text/plain": [
       "array(['White', 'White', 'White', ..., 'White', 'White', 'White'],\n",
       "      dtype=object)"
      ]
     },
     "execution_count": 92,
     "metadata": {},
     "output_type": "execute_result"
    }
   ],
   "source": [
    "y_pred = grid_model.predict(X_test)\n",
    "y_pred"
   ]
  },
  {
   "cell_type": "code",
   "execution_count": 93,
   "metadata": {},
   "outputs": [
    {
     "data": {
      "text/plain": [
       "mean_test_score     0.189636\n",
       "mean_train_score    0.921724\n",
       "Name: 11, dtype: object"
      ]
     },
     "execution_count": 93,
     "metadata": {},
     "output_type": "execute_result"
    }
   ],
   "source": [
    "pd.DataFrame(grid_model.cv_results_).loc[grid_model.best_index_, [\"mean_test_score\", \"mean_train_score\"]]"
   ]
  },
  {
   "cell_type": "code",
   "execution_count": 94,
   "metadata": {},
   "outputs": [
    {
     "data": {
      "text/plain": [
       "<sklearn.metrics._plot.confusion_matrix.ConfusionMatrixDisplay at 0x28fd71a3c40>"
      ]
     },
     "execution_count": 94,
     "metadata": {},
     "output_type": "execute_result"
    },
    {
     "data": {
      "image/png": "[encoded data removed]",
      "text/plain": [
       "<Figure size 432x288 with 2 Axes>"
      ]
     },
     "metadata": {
      "needs_background": "light"
     },
     "output_type": "display_data"
    }
   ],
   "source": [
    "ConfusionMatrixDisplay.from_estimator(grid_model, X_test, y_test)"
   ]
  },
  {
   "cell_type": "code",
   "execution_count": 95,
   "metadata": {},
   "outputs": [
    {
     "name": "stdout",
     "output_type": "stream",
     "text": [
      "Test_Set\n",
      "[[202   1  57]\n",
      " [ 14  32  90]\n",
      " [ 15   3 740]]\n",
      "              precision    recall  f1-score   support\n",
      "\n",
      "       Black       0.87      0.78      0.82       260\n",
      "    Hispanic       0.89      0.24      0.37       136\n",
      "       White       0.83      0.98      0.90       758\n",
      "\n",
      "    accuracy                           0.84      1154\n",
      "   macro avg       0.87      0.66      0.70      1154\n",
      "weighted avg       0.85      0.84      0.82      1154\n",
      "\n",
      "\n",
      "Train_Set\n",
      "[[1033    0    5]\n",
      " [   0  490   53]\n",
      " [   0    0 3034]]\n",
      "              precision    recall  f1-score   support\n",
      "\n",
      "       Black       1.00      1.00      1.00      1038\n",
      "    Hispanic       1.00      0.90      0.95       543\n",
      "       White       0.98      1.00      0.99      3034\n",
      "\n",
      "    accuracy                           0.99      4615\n",
      "   macro avg       0.99      0.97      0.98      4615\n",
      "weighted avg       0.99      0.99      0.99      4615\n",
      "\n"
     ]
    }
   ],
   "source": [
    "eval_metric(grid_model, X_train, y_train, X_test, y_test)"
   ]
  },
  {
   "cell_type": "code",
   "execution_count": 96,
   "metadata": {},
   "outputs": [
    {
     "data": {
      "image/png": "[encoded data removed]",
      "text/plain": [
       "<Figure size 432x288 with 1 Axes>"
      ]
     },
     "metadata": {
      "needs_background": "light"
     },
     "output_type": "display_data"
    }
   ],
   "source": [
    "operations = [(\"OrdinalEncoder\", column_trans),(\"scaler\", MinMaxScaler()), ('RF_model',\n",
    "                 RandomForestClassifier(max_depth=16, n_estimators=300, criterion= 'gini'))]\n",
    "\n",
    "model = Pipeline(steps=operations)\n",
    "\n",
    "model.fit(X_train, y_train)\n",
    "\n",
    "y_pred_proba = model.predict_proba(X_test)\n",
    "    \n",
    "plot_roc(y_test, y_pred_proba)\n",
    "plt.show();"
   ]
  },
  {
   "cell_type": "code",
   "execution_count": 97,
   "metadata": {},
   "outputs": [
    {
     "data": {
      "text/plain": [
       "0.8274009014214724"
      ]
     },
     "execution_count": 97,
     "metadata": {},
     "output_type": "execute_result"
    }
   ],
   "source": [
    "y_test_dummies = pd.get_dummies(y_test).values\n",
    "\n",
    "roc_auc_score(y_test_dummies[:, 1], y_pred_proba[:, 1])"
   ]
  },
  {
   "cell_type": "markdown",
   "metadata": {
    "heading_collapsed": true,
    "hidden": true,
    "id": "PvcPc4V81b7H"
   },
   "source": [
    "## 4. XGBoost"
   ]
  },
  {
   "cell_type": "markdown",
   "metadata": {
    "heading_collapsed": true,
    "hidden": true,
    "id": "MuxxUFoW1b7H"
   },
   "source": [
    "### Vanilla XGBoost Model"
   ]
  },
  {
   "cell_type": "code",
   "execution_count": 98,
   "metadata": {
    "id": "Nfi1aa152HbR"
   },
   "outputs": [],
   "source": [
    "#pip install xgboost==1.7.3"
   ]
  },
  {
   "cell_type": "code",
   "execution_count": 99,
   "metadata": {},
   "outputs": [],
   "source": [
    "from xgboost import XGBClassifier"
   ]
  },
  {
   "cell_type": "code",
   "execution_count": 100,
   "metadata": {},
   "outputs": [],
   "source": [
    "operations = [(\"OrdinalEncoder\", column_trans),(\"scaler\", MinMaxScaler()), (\"XGB_model\",XGBClassifier())]\n",
    "pipe_model_xgb = Pipeline(steps=operations)\n",
    "y_train_xgb = y_train.map({\"Black\": 0, \"Hispanic\": 1, \"White\": 2})\n",
    "y_test_xgb = y_test.map({\"Black\": 0, \"Hispanic\": 1, \"White\": 2})"
   ]
  },
  {
   "cell_type": "code",
   "execution_count": 101,
   "metadata": {},
   "outputs": [],
   "source": [
    "#y_train_xgb"
   ]
  },
  {
   "cell_type": "code",
   "execution_count": 102,
   "metadata": {},
   "outputs": [
    {
     "name": "stdout",
     "output_type": "stream",
     "text": [
      "Test_Set\n",
      "[[225   5  30]\n",
      " [ 10  61  65]\n",
      " [ 16   6 736]]\n",
      "              precision    recall  f1-score   support\n",
      "\n",
      "           0       0.90      0.87      0.88       260\n",
      "           1       0.85      0.45      0.59       136\n",
      "           2       0.89      0.97      0.93       758\n",
      "\n",
      "    accuracy                           0.89      1154\n",
      "   macro avg       0.88      0.76      0.80      1154\n",
      "weighted avg       0.88      0.89      0.88      1154\n",
      "\n",
      "\n",
      "Train_Set\n",
      "[[1038    0    0]\n",
      " [   0  543    0]\n",
      " [   0    0 3034]]\n",
      "              precision    recall  f1-score   support\n",
      "\n",
      "           0       1.00      1.00      1.00      1038\n",
      "           1       1.00      1.00      1.00       543\n",
      "           2       1.00      1.00      1.00      3034\n",
      "\n",
      "    accuracy                           1.00      4615\n",
      "   macro avg       1.00      1.00      1.00      4615\n",
      "weighted avg       1.00      1.00      1.00      4615\n",
      "\n"
     ]
    }
   ],
   "source": [
    "pipe_model_xgb.fit(X_train, y_train_xgb)\n",
    "eval_metric(pipe_model_xgb, X_train, y_train_xgb, X_test, y_test_xgb)"
   ]
  },
  {
   "cell_type": "code",
   "execution_count": 103,
   "metadata": {},
   "outputs": [
    {
     "data": {
      "text/plain": [
       "array([2.8330264 , 0.50703142, 0.50703142, ..., 0.50703142, 1.4820167 ,\n",
       "       0.50703142])"
      ]
     },
     "execution_count": 103,
     "metadata": {},
     "output_type": "execute_result"
    }
   ],
   "source": [
    "from sklearn.utils import class_weight\n",
    "\n",
    "classes_weights = class_weight.compute_sample_weight(\n",
    "    class_weight=\"balanced\", y=y_train_xgb\n",
    ")\n",
    "classes_weights"
   ]
  },
  {
   "cell_type": "code",
   "execution_count": 104,
   "metadata": {},
   "outputs": [
    {
     "data": {
      "text/html": [
       "<div>\n",
       "<style scoped>\n",
       "    .dataframe tbody tr th:only-of-type {\n",
       "        vertical-align: middle;\n",
       "    }\n",
       "\n",
       "    .dataframe tbody tr th {\n",
       "        vertical-align: top;\n",
       "    }\n",
       "\n",
       "    .dataframe thead th {\n",
       "        text-align: right;\n",
       "    }\n",
       "</style>\n",
       "<table border=\"1\" class=\"dataframe\">\n",
       "  <thead>\n",
       "    <tr style=\"text-align: right;\">\n",
       "      <th></th>\n",
       "      <th>weights</th>\n",
       "      <th>label</th>\n",
       "    </tr>\n",
       "  </thead>\n",
       "  <tbody>\n",
       "    <tr>\n",
       "      <th>938</th>\n",
       "      <td>2.833026</td>\n",
       "      <td>1</td>\n",
       "    </tr>\n",
       "    <tr>\n",
       "      <th>206</th>\n",
       "      <td>0.507031</td>\n",
       "      <td>2</td>\n",
       "    </tr>\n",
       "    <tr>\n",
       "      <th>3996</th>\n",
       "      <td>0.507031</td>\n",
       "      <td>2</td>\n",
       "    </tr>\n",
       "    <tr>\n",
       "      <th>3360</th>\n",
       "      <td>0.507031</td>\n",
       "      <td>2</td>\n",
       "    </tr>\n",
       "    <tr>\n",
       "      <th>4714</th>\n",
       "      <td>1.482017</td>\n",
       "      <td>0</td>\n",
       "    </tr>\n",
       "  </tbody>\n",
       "</table>\n",
       "</div>"
      ],
      "text/plain": [
       "       weights  label\n",
       "938   2.833026      1\n",
       "206   0.507031      2\n",
       "3996  0.507031      2\n",
       "3360  0.507031      2\n",
       "4714  1.482017      0"
      ]
     },
     "execution_count": 104,
     "metadata": {},
     "output_type": "execute_result"
    }
   ],
   "source": [
    "my_dict = {\"weights\": classes_weights, \"label\": y_train_xgb}\n",
    "\n",
    "comp = pd.DataFrame(my_dict)\n",
    "\n",
    "comp.head()"
   ]
  },
  {
   "cell_type": "code",
   "execution_count": 105,
   "metadata": {},
   "outputs": [
    {
     "data": {
      "text/plain": [
       "Pipeline(steps=[('OrdinalEncoder',\n",
       "                 ColumnTransformer(remainder='passthrough',\n",
       "                                   transformers=[('ordinalencoder',\n",
       "                                                  OrdinalEncoder(handle_unknown='use_encoded_value',\n",
       "                                                                 unknown_value=-1),\n",
       "                                                  Index([], dtype='object'))])),\n",
       "                ('scaler', MinMaxScaler()),\n",
       "                ('XGB_model',\n",
       "                 XGBClassifier(base_score=None, booster=None, callbacks=None,\n",
       "                               colsample_bylevel=None, colsample_bynode=None,\n",
       "                               col...\n",
       "                               grow_policy=None, importance_type=None,\n",
       "                               interaction_constraints=None, learning_rate=None,\n",
       "                               max_bin=None, max_cat_threshold=None,\n",
       "                               max_cat_to_onehot=None, max_delta_step=None,\n",
       "                               max_depth=None, max_leaves=None,\n",
       "                               min_child_weight=None, missing=nan,\n",
       "                               monotone_constraints=None, n_estimators=100,\n",
       "                               n_jobs=None, num_parallel_tree=None,\n",
       "                               objective='multi:softprob', predictor=None, ...))])"
      ]
     },
     "execution_count": 105,
     "metadata": {},
     "output_type": "execute_result"
    }
   ],
   "source": [
    "pipe_model_xgb.fit(X_train, y_train_xgb, XGB_model__sample_weight=classes_weights)"
   ]
  },
  {
   "cell_type": "code",
   "execution_count": 106,
   "metadata": {},
   "outputs": [
    {
     "name": "stdout",
     "output_type": "stream",
     "text": [
      "Test_Set\n",
      "[[230   7  23]\n",
      " [ 13  71  52]\n",
      " [ 18  21 719]]\n",
      "              precision    recall  f1-score   support\n",
      "\n",
      "           0       0.88      0.88      0.88       260\n",
      "           1       0.72      0.52      0.60       136\n",
      "           2       0.91      0.95      0.93       758\n",
      "\n",
      "    accuracy                           0.88      1154\n",
      "   macro avg       0.83      0.79      0.80      1154\n",
      "weighted avg       0.88      0.88      0.88      1154\n",
      "\n",
      "\n",
      "Train_Set\n",
      "[[1038    0    0]\n",
      " [   0  543    0]\n",
      " [   0    0 3034]]\n",
      "              precision    recall  f1-score   support\n",
      "\n",
      "           0       1.00      1.00      1.00      1038\n",
      "           1       1.00      1.00      1.00       543\n",
      "           2       1.00      1.00      1.00      3034\n",
      "\n",
      "    accuracy                           1.00      4615\n",
      "   macro avg       1.00      1.00      1.00      4615\n",
      "weighted avg       1.00      1.00      1.00      4615\n",
      "\n"
     ]
    }
   ],
   "source": [
    "eval_metric(pipe_model_xgb, X_train, y_train_xgb, X_test, y_test_xgb)"
   ]
  },
  {
   "cell_type": "code",
   "execution_count": 107,
   "metadata": {},
   "outputs": [],
   "source": [
    "scoring_xgb = {\n",
    "    \"precision_Hispanic\": make_scorer(precision_score, average=None, labels=[1]),\n",
    "    \"recall_Hispanic\": make_scorer(recall_score, average=None, labels=[1]),\n",
    "    \"f1_Hispanic\": make_scorer(f1_score, average=None, labels=[1]),\n",
    "}"
   ]
  },
  {
   "cell_type": "code",
   "execution_count": 108,
   "metadata": {},
   "outputs": [
    {
     "data": {
      "text/plain": [
       "test_precision_Hispanic     0.737185\n",
       "train_precision_Hispanic    1.000000\n",
       "test_recall_Hispanic        0.506371\n",
       "train_recall_Hispanic       1.000000\n",
       "test_f1_Hispanic            0.599221\n",
       "train_f1_Hispanic           1.000000\n",
       "dtype: float64"
      ]
     },
     "execution_count": 108,
     "metadata": {},
     "output_type": "execute_result"
    }
   ],
   "source": [
    "scores = cross_validate(\n",
    "    pipe_model_xgb,\n",
    "    X_train,\n",
    "    y_train_xgb,\n",
    "    scoring=scoring_xgb,\n",
    "    cv=5,\n",
    "    n_jobs=-1,\n",
    "    return_train_score=True,\n",
    "    fit_params={\"XGB_model__sample_weight\": classes_weights},\n",
    ")\n",
    "df_scores = pd.DataFrame(scores, index=range(1, 6))\n",
    "df_scores.mean()[2:]"
   ]
  },
  {
   "cell_type": "markdown",
   "metadata": {
    "heading_collapsed": true,
    "hidden": true,
    "id": "p3gH5QvE1b7I"
   },
   "source": [
    "### XGBoost Model GridsearchCV"
   ]
  },
  {
   "cell_type": "code",
   "execution_count": 109,
   "metadata": {},
   "outputs": [],
   "source": [
    "recall_Hispanic =  make_scorer( recall_score, average=None, labels=[1] )"
   ]
  },
  {
   "cell_type": "code",
   "execution_count": 110,
   "metadata": {},
   "outputs": [],
   "source": [
    "param_grid = {\"XGB_model__n_estimators\":[100, 300],\n",
    "              'XGB_model__max_depth':[3,5,6],\n",
    "              \"XGB_model__learning_rate\": [0.1, 0.3]}"
   ]
  },
  {
   "cell_type": "code",
   "execution_count": 111,
   "metadata": {},
   "outputs": [],
   "source": [
    "grid_model = GridSearchCV(pipe_model_xgb, param_grid, verbose=3, scoring=recall_Hispanic, refit=True,n_jobs=-1, return_train_score=True)"
   ]
  },
  {
   "cell_type": "code",
   "execution_count": 112,
   "metadata": {},
   "outputs": [
    {
     "name": "stdout",
     "output_type": "stream",
     "text": [
      "Fitting 5 folds for each of 12 candidates, totalling 60 fits\n"
     ]
    },
    {
     "data": {
      "text/plain": [
       "GridSearchCV(estimator=Pipeline(steps=[('OrdinalEncoder',\n",
       "                                        ColumnTransformer(remainder='passthrough',\n",
       "                                                          transformers=[('ordinalencoder',\n",
       "                                                                         OrdinalEncoder(handle_unknown='use_encoded_value',\n",
       "                                                                                        unknown_value=-1),\n",
       "                                                                         Index([], dtype='object'))])),\n",
       "                                       ('scaler', MinMaxScaler()),\n",
       "                                       ('XGB_model',\n",
       "                                        XGBClassifier(base_score=None,\n",
       "                                                      booster=None,\n",
       "                                                      callbacks=None,\n",
       "                                                      colsample_bylevel=None,\n",
       "                                                      co...\n",
       "                                                      missing=nan,\n",
       "                                                      monotone_constraints=None,\n",
       "                                                      n_estimators=100,\n",
       "                                                      n_jobs=None,\n",
       "                                                      num_parallel_tree=None,\n",
       "                                                      objective='multi:softprob',\n",
       "                                                      predictor=None, ...))]),\n",
       "             n_jobs=-1,\n",
       "             param_grid={'XGB_model__learning_rate': [0.1, 0.3],\n",
       "                         'XGB_model__max_depth': [3, 5, 6],\n",
       "                         'XGB_model__n_estimators': [100, 300]},\n",
       "             return_train_score=True,\n",
       "             scoring=make_scorer(recall_score, average=None, labels=[1]),\n",
       "             verbose=3)"
      ]
     },
     "execution_count": 112,
     "metadata": {},
     "output_type": "execute_result"
    }
   ],
   "source": [
    "grid_model.fit(X_train, y_train_xgb, XGB_model__sample_weight=classes_weights)"
   ]
  },
  {
   "cell_type": "code",
   "execution_count": 113,
   "metadata": {
    "id": "72E3Cmnm2KOE"
   },
   "outputs": [
    {
     "data": {
      "text/plain": [
       "{'XGB_model__learning_rate': 0.1,\n",
       " 'XGB_model__max_depth': 3,\n",
       " 'XGB_model__n_estimators': 100}"
      ]
     },
     "execution_count": 113,
     "metadata": {},
     "output_type": "execute_result"
    }
   ],
   "source": [
    "grid_model.best_params_"
   ]
  },
  {
   "cell_type": "code",
   "execution_count": 114,
   "metadata": {},
   "outputs": [
    {
     "data": {
      "text/plain": [
       "Pipeline(steps=[('OrdinalEncoder',\n",
       "                 ColumnTransformer(remainder='passthrough',\n",
       "                                   transformers=[('ordinalencoder',\n",
       "                                                  OrdinalEncoder(handle_unknown='use_encoded_value',\n",
       "                                                                 unknown_value=-1),\n",
       "                                                  Index([], dtype='object'))])),\n",
       "                ('scaler', MinMaxScaler()),\n",
       "                ('XGB_model',\n",
       "                 XGBClassifier(base_score=None, booster=None, callbacks=None,\n",
       "                               colsample_bylevel=None, colsample_bynode=None,\n",
       "                               col...\n",
       "                               grow_policy=None, importance_type=None,\n",
       "                               interaction_constraints=None, learning_rate=0.1,\n",
       "                               max_bin=None, max_cat_threshold=None,\n",
       "                               max_cat_to_onehot=None, max_delta_step=None,\n",
       "                               max_depth=3, max_leaves=None,\n",
       "                               min_child_weight=None, missing=nan,\n",
       "                               monotone_constraints=None, n_estimators=100,\n",
       "                               n_jobs=None, num_parallel_tree=None,\n",
       "                               objective='multi:softprob', predictor=None, ...))])"
      ]
     },
     "execution_count": 114,
     "metadata": {},
     "output_type": "execute_result"
    }
   ],
   "source": [
    "grid_model.best_estimator_"
   ]
  },
  {
   "cell_type": "code",
   "execution_count": 115,
   "metadata": {},
   "outputs": [
    {
     "data": {
      "text/plain": [
       "array([2, 2, 1, ..., 2, 2, 2], dtype=int64)"
      ]
     },
     "execution_count": 115,
     "metadata": {},
     "output_type": "execute_result"
    }
   ],
   "source": [
    "y_pred = grid_model.predict(X_test)\n",
    "y_pred"
   ]
  },
  {
   "cell_type": "code",
   "execution_count": 116,
   "metadata": {},
   "outputs": [
    {
     "data": {
      "text/plain": [
       "mean_test_score     0.668468\n",
       "mean_train_score    0.866484\n",
       "Name: 0, dtype: object"
      ]
     },
     "execution_count": 116,
     "metadata": {},
     "output_type": "execute_result"
    }
   ],
   "source": [
    "pd.DataFrame(grid_model.cv_results_).loc[\n",
    "    grid_model.best_index_, [\"mean_test_score\", \"mean_train_score\"]\n",
    "]"
   ]
  },
  {
   "cell_type": "code",
   "execution_count": 117,
   "metadata": {},
   "outputs": [
    {
     "data": {
      "text/plain": [
       "<sklearn.metrics._plot.confusion_matrix.ConfusionMatrixDisplay at 0x28fd180bd90>"
      ]
     },
     "execution_count": 117,
     "metadata": {},
     "output_type": "execute_result"
    },
    {
     "data": {
      "image/png": "[encoded data removed]",
      "text/plain": [
       "<Figure size 432x288 with 2 Axes>"
      ]
     },
     "metadata": {
      "needs_background": "light"
     },
     "output_type": "display_data"
    }
   ],
   "source": [
    "ConfusionMatrixDisplay.from_estimator(grid_model, X_test, y_test_xgb)"
   ]
  },
  {
   "cell_type": "code",
   "execution_count": 118,
   "metadata": {},
   "outputs": [
    {
     "name": "stdout",
     "output_type": "stream",
     "text": [
      "Test_Set\n",
      "[[226  12  22]\n",
      " [  8  93  35]\n",
      " [ 45  79 634]]\n",
      "              precision    recall  f1-score   support\n",
      "\n",
      "           0       0.81      0.87      0.84       260\n",
      "           1       0.51      0.68      0.58       136\n",
      "           2       0.92      0.84      0.88       758\n",
      "\n",
      "    accuracy                           0.83      1154\n",
      "   macro avg       0.74      0.80      0.76      1154\n",
      "weighted avg       0.84      0.83      0.83      1154\n",
      "\n",
      "\n",
      "Train_Set\n",
      "[[ 972   29   37]\n",
      " [  14  460   69]\n",
      " [  85  275 2674]]\n",
      "              precision    recall  f1-score   support\n",
      "\n",
      "           0       0.91      0.94      0.92      1038\n",
      "           1       0.60      0.85      0.70       543\n",
      "           2       0.96      0.88      0.92      3034\n",
      "\n",
      "    accuracy                           0.89      4615\n",
      "   macro avg       0.82      0.89      0.85      4615\n",
      "weighted avg       0.91      0.89      0.89      4615\n",
      "\n"
     ]
    }
   ],
   "source": [
    "eval_metric(grid_model, X_train, y_train_xgb, X_test, y_test_xgb)"
   ]
  },
  {
   "cell_type": "code",
   "execution_count": 119,
   "metadata": {},
   "outputs": [
    {
     "data": {
      "image/png": "[encoded data removed]",
      "text/plain": [
       "<Figure size 432x288 with 1 Axes>"
      ]
     },
     "metadata": {
      "needs_background": "light"
     },
     "output_type": "display_data"
    }
   ],
   "source": [
    "operations = [(\"OrdinalEncoder\", column_trans),(\"scaler\", MinMaxScaler()), ('XGB_model',\n",
    "                 XGBClassifier( max_depth=3, n_estimators=100, learning_rate=0.1))]\n",
    "\n",
    "model = Pipeline(steps=operations)\n",
    "\n",
    "model.fit(X_train, y_train_xgb, XGB_model__sample_weight=classes_weights)\n",
    "\n",
    "y_pred_proba = model.predict_proba(X_test)\n",
    "    \n",
    "plot_precision_recall(y_test_xgb, y_pred_proba)\n",
    "plt.show()"
   ]
  },
  {
   "cell_type": "code",
   "execution_count": 120,
   "metadata": {},
   "outputs": [
    {
     "data": {
      "text/plain": [
       "0.881883450826303"
      ]
     },
     "execution_count": 120,
     "metadata": {},
     "output_type": "execute_result"
    }
   ],
   "source": [
    "y_test_dummies = pd.get_dummies(y_test_xgb).values\n",
    "\n",
    "roc_auc_score(y_test_dummies[:, 1], y_pred_proba[:, 1])"
   ]
  },
  {
   "cell_type": "markdown",
   "metadata": {
    "hidden": true,
    "id": "DbXAmOPVDatl"
   },
   "source": [
    "---\n",
    "---"
   ]
  },
  {
   "cell_type": "markdown",
   "metadata": {
    "hidden": true,
    "id": "WvWpInu21b7L"
   },
   "source": [
    "---\n",
    "---"
   ]
  },
  {
   "cell_type": "markdown",
   "metadata": {
    "heading_collapsed": true,
    "id": "xg2k1ScZ1b7L"
   },
   "source": [
    "# SMOTE\n",
    "https://machinelearningmastery.com/smote-oversampling-for-imbalanced-classification/"
   ]
  },
  {
   "cell_type": "markdown",
   "metadata": {
    "hidden": true,
    "id": "9Rqk02x61b7L"
   },
   "source": [
    "##  Smote implement"
   ]
  },
  {
   "cell_type": "code",
   "execution_count": 112,
   "metadata": {
    "hidden": true,
    "id": "XTN4iO7i1b7L"
   },
   "outputs": [
    {
     "name": "stdout",
     "output_type": "stream",
     "text": [
      "Requirement already satisfied: imblearn in c:\\users\\saraa\\anaconda3\\lib\\site-packages (0.0)\n",
      "Requirement already satisfied: imbalanced-learn in c:\\users\\saraa\\anaconda3\\lib\\site-packages (from imblearn) (0.11.0)\n",
      "Requirement already satisfied: joblib>=1.1.1 in c:\\users\\saraa\\anaconda3\\lib\\site-packages (from imbalanced-learn->imblearn) (1.3.2)\n",
      "Requirement already satisfied: numpy>=1.17.3 in c:\\users\\saraa\\anaconda3\\lib\\site-packages (from imbalanced-learn->imblearn) (1.19.3)\n",
      "Requirement already satisfied: scikit-learn>=1.0.2 in c:\\users\\saraa\\anaconda3\\lib\\site-packages (from imbalanced-learn->imblearn) (1.0.2)\n",
      "Requirement already satisfied: scipy>=1.5.0 in c:\\users\\saraa\\anaconda3\\lib\\site-packages (from imbalanced-learn->imblearn) (1.7.3)\n",
      "Requirement already satisfied: threadpoolctl>=2.0.0 in c:\\users\\saraa\\anaconda3\\lib\\site-packages (from imbalanced-learn->imblearn) (2.2.0)\n"
     ]
    }
   ],
   "source": [
    "!pip install imblearn"
   ]
  },
  {
   "cell_type": "code",
   "execution_count": 121,
   "metadata": {
    "hidden": true,
    "id": "Cv5155AN1b7L"
   },
   "outputs": [],
   "source": [
    "from imblearn.over_sampling import SMOTE\n",
    "from imblearn.under_sampling import RandomUnderSampler\n",
    "from imblearn.pipeline import Pipeline"
   ]
  },
  {
   "cell_type": "code",
   "execution_count": 126,
   "metadata": {},
   "outputs": [],
   "source": [
    "from sklearn.preprocessing import OneHotEncoder\n",
    "column_trans = make_column_transformer(\n",
    "    (OneHotEncoder(handle_unknown=\"ignore\", sparse=False), cat),\n",
    "    remainder=MinMaxScaler(),\n",
    ")"
   ]
  },
  {
   "cell_type": "code",
   "execution_count": 127,
   "metadata": {},
   "outputs": [],
   "source": [
    "X_train_ohe = column_trans.fit_transform(X_train)"
   ]
  },
  {
   "cell_type": "code",
   "execution_count": 128,
   "metadata": {},
   "outputs": [],
   "source": [
    "over = SMOTE()\n",
    "X_train_over, y_train_over = over.fit_resample(X_train_ohe, y_train)"
   ]
  },
  {
   "cell_type": "code",
   "execution_count": 129,
   "metadata": {},
   "outputs": [],
   "source": [
    "under = RandomUnderSampler()\n",
    "X_train_under, y_train_under = under.fit_resample(X_train_ohe, y_train)"
   ]
  },
  {
   "cell_type": "code",
   "execution_count": 165,
   "metadata": {},
   "outputs": [],
   "source": [
    "over = SMOTE(sampling_strategy={\"Hispanic\": 800})\n",
    "under = RandomUnderSampler(sampling_strategy={\"White\": 2000})"
   ]
  },
  {
   "cell_type": "code",
   "execution_count": 166,
   "metadata": {},
   "outputs": [],
   "source": [
    "X_resampled_over, y_resampled_over = over.fit_resample(X_train_ohe, y_train)"
   ]
  },
  {
   "cell_type": "code",
   "execution_count": 167,
   "metadata": {},
   "outputs": [],
   "source": [
    "X_resampled_under, y_resampled_under = under.fit_resample(X_train_ohe, y_train)"
   ]
  },
  {
   "cell_type": "code",
   "execution_count": 168,
   "metadata": {},
   "outputs": [],
   "source": [
    "steps = [(\"o\", over), (\"u\", under)]\n",
    "\n",
    "\n",
    "pipeline = Pipeline(steps=steps)\n",
    "\n",
    "X_resampled, y_resampled = pipeline.fit_resample(X_train_ohe, y_train)"
   ]
  },
  {
   "cell_type": "markdown",
   "metadata": {
    "hidden": true,
    "id": "1hBIqmFL1b7O"
   },
   "source": [
    "## Logistic Regression Over/ Under Sampling"
   ]
  },
  {
   "cell_type": "code",
   "execution_count": 169,
   "metadata": {
    "id": "JLsqCpGn7jNM"
   },
   "outputs": [],
   "source": [
    "operations = [(\"OneHotEncoder\", column_trans), (\"o\", over),\n",
    "    (\"u\", under), (\"logistic\", LogisticRegression())]\n",
    "\n",
    "smote_pipeline = Pipeline(steps=operations)"
   ]
  },
  {
   "cell_type": "code",
   "execution_count": 170,
   "metadata": {},
   "outputs": [
    {
     "data": {
      "text/plain": [
       "Pipeline(steps=[('OneHotEncoder',\n",
       "                 ColumnTransformer(remainder=MinMaxScaler(),\n",
       "                                   transformers=[('onehotencoder',\n",
       "                                                  OneHotEncoder(handle_unknown='ignore',\n",
       "                                                                sparse=False),\n",
       "                                                  Index([], dtype='object'))])),\n",
       "                ('o', SMOTE(sampling_strategy={'Hispanic': 800})),\n",
       "                ('u', RandomUnderSampler(sampling_strategy={'White': 2000})),\n",
       "                ('logistic', LogisticRegression())])"
      ]
     },
     "execution_count": 170,
     "metadata": {},
     "output_type": "execute_result"
    }
   ],
   "source": [
    "smote_pipeline.fit(X_train, y_train)"
   ]
  },
  {
   "cell_type": "code",
   "execution_count": 171,
   "metadata": {},
   "outputs": [
    {
     "name": "stdout",
     "output_type": "stream",
     "text": [
      "Test_Set\n",
      "[[235  11  14]\n",
      " [  6  92  38]\n",
      " [ 15  37 706]]\n",
      "              precision    recall  f1-score   support\n",
      "\n",
      "       Black       0.92      0.90      0.91       260\n",
      "    Hispanic       0.66      0.68      0.67       136\n",
      "       White       0.93      0.93      0.93       758\n",
      "\n",
      "    accuracy                           0.90      1154\n",
      "   macro avg       0.84      0.84      0.84      1154\n",
      "weighted avg       0.90      0.90      0.90      1154\n",
      "\n",
      "\n",
      "Train_Set\n",
      "[[ 949   36   53]\n",
      " [  32  377  134]\n",
      " [  38  141 2855]]\n",
      "              precision    recall  f1-score   support\n",
      "\n",
      "       Black       0.93      0.91      0.92      1038\n",
      "    Hispanic       0.68      0.69      0.69       543\n",
      "       White       0.94      0.94      0.94      3034\n",
      "\n",
      "    accuracy                           0.91      4615\n",
      "   macro avg       0.85      0.85      0.85      4615\n",
      "weighted avg       0.91      0.91      0.91      4615\n",
      "\n"
     ]
    }
   ],
   "source": [
    "eval_metric(smote_pipeline, X_train, y_train, X_test, y_test)"
   ]
  },
  {
   "cell_type": "markdown",
   "metadata": {
    "id": "j9A1B65L7jwp"
   },
   "source": [
    "## Other Evaluation Metrics for Multiclass Classification"
   ]
  },
  {
   "cell_type": "markdown",
   "metadata": {
    "hidden": true,
    "id": "T1pPLjpA1b7P"
   },
   "source": [
    "- Evaluation metrics\n",
    "https://towardsdatascience.com/comprehensive-guide-on-multiclass-classification-metrics-af94cfb83fbd"
   ]
  },
  {
   "cell_type": "markdown",
   "metadata": {
    "heading_collapsed": true,
    "id": "9hxUcvZG1b7J"
   },
   "source": [
    "# Before the Deployment\n",
    "- Choose the model that works best based on your chosen metric\n",
    "- For final step, fit the best model with whole dataset to get better performance.\n",
    "- And your model ready to deploy, dump your model and scaler."
   ]
  },
  {
   "cell_type": "code",
   "execution_count": 173,
   "metadata": {
    "id": "4UOn_G0n2N2Z"
   },
   "outputs": [],
   "source": [
    "from sklearn.preprocessing import OneHotEncoder, MinMaxScaler, StandardScaler\n",
    "column_trans_final = make_column_transformer(\n",
    "    (OneHotEncoder(handle_unknown=\"ignore\", sparse=False), cat),\n",
    "    remainder=MinMaxScaler(),\n",
    ")\n",
    "\n",
    "operations_final = [\n",
    "    (\"OneHotEncoder\", column_trans_final),\n",
    "    (\n",
    "        \"log\",\n",
    "        LogisticRegression(),\n",
    "    ),\n",
    "]\n",
    "\n",
    "final_model = Pipeline(steps=operations_final)"
   ]
  },
  {
   "cell_type": "code",
   "execution_count": 174,
   "metadata": {},
   "outputs": [
    {
     "data": {
      "text/plain": [
       "Pipeline(steps=[('OneHotEncoder',\n",
       "                 ColumnTransformer(remainder=MinMaxScaler(),\n",
       "                                   transformers=[('onehotencoder',\n",
       "                                                  OneHotEncoder(handle_unknown='ignore',\n",
       "                                                                sparse=False),\n",
       "                                                  Index([], dtype='object'))])),\n",
       "                ('log', LogisticRegression())])"
      ]
     },
     "execution_count": 174,
     "metadata": {},
     "output_type": "execute_result"
    }
   ],
   "source": [
    "final_model.fit(X, y)"
   ]
  },
  {
   "cell_type": "code",
   "execution_count": 175,
   "metadata": {},
   "outputs": [
    {
     "data": {
      "text/plain": [
       "0.8275307744021819"
      ]
     },
     "execution_count": 175,
     "metadata": {},
     "output_type": "execute_result"
    }
   ],
   "source": [
    "from sklearn.metrics import matthews_corrcoef\n",
    "\n",
    "y_pred = final_model.predict(X_test)\n",
    "\n",
    "matthews_corrcoef(y_test, y_pred)"
   ]
  },
  {
   "cell_type": "code",
   "execution_count": 176,
   "metadata": {},
   "outputs": [
    {
     "data": {
      "text/plain": [
       "0.8249143862126194"
      ]
     },
     "execution_count": 176,
     "metadata": {},
     "output_type": "execute_result"
    }
   ],
   "source": [
    "from sklearn.metrics import cohen_kappa_score\n",
    "\n",
    "cohen_kappa_score(y_test, y_pred)"
   ]
  },
  {
   "cell_type": "markdown",
   "metadata": {
    "hidden": true,
    "id": "g8_x-BiN1b7Q"
   },
   "source": [
    "___\n",
    "\n",
    "<p style=\"text-align: center;\"><img src=\"https://docs.google.com/uc?id=1lY0Uj5R04yMY3-ZppPWxqCr5pvBLYPnV\" class=\"img-fluid\" alt=\"CLRSWY\"></p>\n",
    "\n",
    "___"
   ]
  }
 ],
 "metadata": {
  "colab": {
   "collapsed_sections": [
    "K7UZHtvu1b62",
    "C5lJeTBu1b65",
    "TMjCTEG51b67",
    "CS5-GZy0sl4s",
    "zfi_NOw0s2fM",
    "p3gH5QvE1b7I",
    "xg2k1ScZ1b7L",
    "1hBIqmFL1b7O",
    "j9A1B65L7jwp",
    "9hxUcvZG1b7J"
   ],
   "provenance": []
  },
  "hide_input": false,
  "interpreter": {
   "hash": "e4e90950cb561445fc7289d5187c528b28750a487d008a70b474c773afaf79b7"
  },
  "kernelspec": {
   "display_name": "Python 3 (ipykernel)",
   "language": "python",
   "name": "python3"
  },
  "language_info": {
   "codemirror_mode": {
    "name": "ipython",
    "version": 3
   },
   "file_extension": ".py",
   "mimetype": "text/x-python",
   "name": "python",
   "nbconvert_exporter": "python",
   "pygments_lexer": "ipython3",
   "version": "3.9.12"
  },
  "toc": {
   "base_numbering": 1,
   "nav_menu": {},
   "number_sections": true,
   "sideBar": true,
   "skip_h1_title": false,
   "title_cell": "Table of Contents",
   "title_sidebar": "Contents",
   "toc_cell": false,
   "toc_position": {
    "height": "calc(100% - 180px)",
    "left": "10px",
    "top": "150px",
    "width": "338.797px"
   },
   "toc_section_display": true,
   "toc_window_display": false
  },
  "varInspector": {
   "cols": {
    "lenName": 16,
    "lenType": 16,
    "lenVar": 40
   },
   "kernels_config": {
    "python": {
     "delete_cmd_postfix": "",
     "delete_cmd_prefix": "del ",
     "library": "var_list.py",
     "varRefreshCmd": "print(var_dic_list())"
    },
    "r": {
     "delete_cmd_postfix": ") ",
     "delete_cmd_prefix": "rm(",
     "library": "var_list.r",
     "varRefreshCmd": "cat(var_dic_list()) "
    }
   },
   "oldHeight": 527,
   "position": {
    "height": "40px",
    "left": "1034px",
    "right": "20px",
    "top": "185px",
    "width": "661px"
   },
   "types_to_exclude": [
    "module",
    "function",
    "builtin_function_or_method",
    "instance",
    "_Feature"
   ],
   "varInspector_section_display": "none",
   "window_display": false
  }
 },
 "nbformat": 4,
 "nbformat_minor": 1
}
